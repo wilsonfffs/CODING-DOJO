{
  "nbformat": 4,
  "nbformat_minor": 0,
  "metadata": {
    "colab": {
      "name": "Proyecto 2 - Parte 2.ipynb",
      "provenance": [],
      "collapsed_sections": [],
      "authorship_tag": "ABX9TyPqj+iCtxLByfJmYNfDQHDy",
      "include_colab_link": true
    },
    "kernelspec": {
      "name": "python3",
      "display_name": "Python 3"
    },
    "language_info": {
      "name": "python"
    }
  },
  "cells": [
    {
      "cell_type": "markdown",
      "metadata": {
        "id": "view-in-github",
        "colab_type": "text"
      },
      "source": [
        "<a href=\"https://colab.research.google.com/github/wilsonfffs/CODING-DOJO/blob/main/Proyecto_2_Parte_3.ipynb\" target=\"_parent\"><img src=\"https://colab.research.google.com/assets/colab-badge.svg\" alt=\"Open In Colab\"/></a>"
      ]
    },
    {
      "cell_type": "code",
      "execution_count": null,
      "metadata": {
        "colab": {
          "base_uri": "https://localhost:8080/"
        },
        "id": "vNWIL59vBglG",
        "outputId": "4f9bfcc9-b481-4b21-ba56-ec5566a680a3"
      },
      "outputs": [
        {
          "output_type": "stream",
          "name": "stdout",
          "text": [
            "Mounted at /content/drive\n"
          ]
        }
      ],
      "source": [
        "from google.colab import drive\n",
        "drive.mount('/content/drive')"
      ]
    },
    {
      "cell_type": "code",
      "source": [
        "# Imports\n",
        "import numpy as np\n",
        "import pandas as pd\n",
        "import matplotlib.pyplot as plt\n",
        "from sklearn.preprocessing import StandardScaler\n",
        "from sklearn.cluster import KMeans\n",
        "from sklearn.model_selection import train_test_split\n",
        "from sklearn.preprocessing import StandardScaler\n",
        "from sklearn.cluster import AgglomerativeClustering\n",
        "import scipy.cluster.hierarchy as sch"
      ],
      "metadata": {
        "id": "MUnpBjOPB7pM"
      },
      "execution_count": null,
      "outputs": []
    },
    {
      "cell_type": "code",
      "source": [
        "filename = '/content/drive/MyDrive/Coding Dojo /Codigo /week8/BASE DE DATOS CD V2.xlsx'\n",
        "df = pd.read_excel(filename)\n",
        "df.head()"
      ],
      "metadata": {
        "colab": {
          "base_uri": "https://localhost:8080/",
          "height": 386
        },
        "id": "RdW_8eVaCS2Q",
        "outputId": "cdc0996c-60f7-4b6a-ca1d-644f249105f7"
      },
      "execution_count": null,
      "outputs": [
        {
          "output_type": "execute_result",
          "data": {
            "text/plain": [
              "     Tipo_Contrato Sucursal   Servicio Ultima_Milla ciudad_Enlace  \\\n",
              "0  Cuenta Personal    Quito  ADSL HOME          CNT         Quito   \n",
              "1  Cuenta Personal    Quito  ADSL HOME          CNT         Quito   \n",
              "2  Cuenta Personal    Quito       Wifi  Inalambrico         Quito   \n",
              "3  Cuenta Personal    Quito       Wifi  Inalambrico         Quito   \n",
              "4  Cuenta Personal    Quito       Wifi  Inalambrico         Quito   \n",
              "\n",
              "        estado             desPlan     Ancho_Banda        Nodo  \\\n",
              "0  Desactivado       IP Pymes 2009    220-100 Kbps         NaN   \n",
              "1  Desactivado        IP Home 2008     128-64 Kbps         NaN   \n",
              "2  Desactivado  Dia del Padre 2010    550-550 Kbps         NaN   \n",
              "3       Activo           WIFI 2020  8000-8000 Kbps  Santa Rosa   \n",
              "4       Activo      WIFI EMPLEADOS  8000-8000 Kbps   Carapungo   \n",
              "\n",
              "   valor_Ultima_Milla  ...  pers_id_morosidad_cliente  generaciones  \\\n",
              "0                   0  ...                        NaN           NaN   \n",
              "1                   0  ...                        NaN           NaN   \n",
              "2                   0  ...                        NaN           NaN   \n",
              "3                   0  ...                         NO  Generacion X   \n",
              "4                   0  ...                         NO     Baby Boom   \n",
              "\n",
              "          tipo_sobrendeudamiento tiene_tarjeta  val_cupo  tipo_marca_tarjeta  \\\n",
              "0                            NaN           NaN       NaN                 NaN   \n",
              "1                            NaN           NaN       NaN                 NaN   \n",
              "2                            NaN           NaN       NaN                 NaN   \n",
              "3  Sin Informacion Endeudamiento            NO       0.0            NO TIENE   \n",
              "4       Medio Alto Endeudamiento            SI   13800.0  [MASTERCARD, VISA]   \n",
              "\n",
              "  provinciatse cantontse antiguedad_bancarizado  Forma_PagoF  \n",
              "0          NaN       NaN                    NaN      AHORROS  \n",
              "1          NaN       NaN                    NaN      AHORROS  \n",
              "2          NaN       NaN                    NaN        OTROS  \n",
              "3    PICHINCHA     QUITO                    NaN      AHORROS  \n",
              "4    PICHINCHA     QUITO                  139.0        OTROS  \n",
              "\n",
              "[5 rows x 59 columns]"
            ],
            "text/html": [
              "\n",
              "  <div id=\"df-e80b261d-531a-43d5-8347-2acb1ebf10a1\">\n",
              "    <div class=\"colab-df-container\">\n",
              "      <div>\n",
              "<style scoped>\n",
              "    .dataframe tbody tr th:only-of-type {\n",
              "        vertical-align: middle;\n",
              "    }\n",
              "\n",
              "    .dataframe tbody tr th {\n",
              "        vertical-align: top;\n",
              "    }\n",
              "\n",
              "    .dataframe thead th {\n",
              "        text-align: right;\n",
              "    }\n",
              "</style>\n",
              "<table border=\"1\" class=\"dataframe\">\n",
              "  <thead>\n",
              "    <tr style=\"text-align: right;\">\n",
              "      <th></th>\n",
              "      <th>Tipo_Contrato</th>\n",
              "      <th>Sucursal</th>\n",
              "      <th>Servicio</th>\n",
              "      <th>Ultima_Milla</th>\n",
              "      <th>ciudad_Enlace</th>\n",
              "      <th>estado</th>\n",
              "      <th>desPlan</th>\n",
              "      <th>Ancho_Banda</th>\n",
              "      <th>Nodo</th>\n",
              "      <th>valor_Ultima_Milla</th>\n",
              "      <th>...</th>\n",
              "      <th>pers_id_morosidad_cliente</th>\n",
              "      <th>generaciones</th>\n",
              "      <th>tipo_sobrendeudamiento</th>\n",
              "      <th>tiene_tarjeta</th>\n",
              "      <th>val_cupo</th>\n",
              "      <th>tipo_marca_tarjeta</th>\n",
              "      <th>provinciatse</th>\n",
              "      <th>cantontse</th>\n",
              "      <th>antiguedad_bancarizado</th>\n",
              "      <th>Forma_PagoF</th>\n",
              "    </tr>\n",
              "  </thead>\n",
              "  <tbody>\n",
              "    <tr>\n",
              "      <th>0</th>\n",
              "      <td>Cuenta Personal</td>\n",
              "      <td>Quito</td>\n",
              "      <td>ADSL HOME</td>\n",
              "      <td>CNT</td>\n",
              "      <td>Quito</td>\n",
              "      <td>Desactivado</td>\n",
              "      <td>IP Pymes 2009</td>\n",
              "      <td>220-100 Kbps</td>\n",
              "      <td>NaN</td>\n",
              "      <td>0</td>\n",
              "      <td>...</td>\n",
              "      <td>NaN</td>\n",
              "      <td>NaN</td>\n",
              "      <td>NaN</td>\n",
              "      <td>NaN</td>\n",
              "      <td>NaN</td>\n",
              "      <td>NaN</td>\n",
              "      <td>NaN</td>\n",
              "      <td>NaN</td>\n",
              "      <td>NaN</td>\n",
              "      <td>AHORROS</td>\n",
              "    </tr>\n",
              "    <tr>\n",
              "      <th>1</th>\n",
              "      <td>Cuenta Personal</td>\n",
              "      <td>Quito</td>\n",
              "      <td>ADSL HOME</td>\n",
              "      <td>CNT</td>\n",
              "      <td>Quito</td>\n",
              "      <td>Desactivado</td>\n",
              "      <td>IP Home 2008</td>\n",
              "      <td>128-64 Kbps</td>\n",
              "      <td>NaN</td>\n",
              "      <td>0</td>\n",
              "      <td>...</td>\n",
              "      <td>NaN</td>\n",
              "      <td>NaN</td>\n",
              "      <td>NaN</td>\n",
              "      <td>NaN</td>\n",
              "      <td>NaN</td>\n",
              "      <td>NaN</td>\n",
              "      <td>NaN</td>\n",
              "      <td>NaN</td>\n",
              "      <td>NaN</td>\n",
              "      <td>AHORROS</td>\n",
              "    </tr>\n",
              "    <tr>\n",
              "      <th>2</th>\n",
              "      <td>Cuenta Personal</td>\n",
              "      <td>Quito</td>\n",
              "      <td>Wifi</td>\n",
              "      <td>Inalambrico</td>\n",
              "      <td>Quito</td>\n",
              "      <td>Desactivado</td>\n",
              "      <td>Dia del Padre 2010</td>\n",
              "      <td>550-550 Kbps</td>\n",
              "      <td>NaN</td>\n",
              "      <td>0</td>\n",
              "      <td>...</td>\n",
              "      <td>NaN</td>\n",
              "      <td>NaN</td>\n",
              "      <td>NaN</td>\n",
              "      <td>NaN</td>\n",
              "      <td>NaN</td>\n",
              "      <td>NaN</td>\n",
              "      <td>NaN</td>\n",
              "      <td>NaN</td>\n",
              "      <td>NaN</td>\n",
              "      <td>OTROS</td>\n",
              "    </tr>\n",
              "    <tr>\n",
              "      <th>3</th>\n",
              "      <td>Cuenta Personal</td>\n",
              "      <td>Quito</td>\n",
              "      <td>Wifi</td>\n",
              "      <td>Inalambrico</td>\n",
              "      <td>Quito</td>\n",
              "      <td>Activo</td>\n",
              "      <td>WIFI 2020</td>\n",
              "      <td>8000-8000 Kbps</td>\n",
              "      <td>Santa Rosa</td>\n",
              "      <td>0</td>\n",
              "      <td>...</td>\n",
              "      <td>NO</td>\n",
              "      <td>Generacion X</td>\n",
              "      <td>Sin Informacion Endeudamiento</td>\n",
              "      <td>NO</td>\n",
              "      <td>0.0</td>\n",
              "      <td>NO TIENE</td>\n",
              "      <td>PICHINCHA</td>\n",
              "      <td>QUITO</td>\n",
              "      <td>NaN</td>\n",
              "      <td>AHORROS</td>\n",
              "    </tr>\n",
              "    <tr>\n",
              "      <th>4</th>\n",
              "      <td>Cuenta Personal</td>\n",
              "      <td>Quito</td>\n",
              "      <td>Wifi</td>\n",
              "      <td>Inalambrico</td>\n",
              "      <td>Quito</td>\n",
              "      <td>Activo</td>\n",
              "      <td>WIFI EMPLEADOS</td>\n",
              "      <td>8000-8000 Kbps</td>\n",
              "      <td>Carapungo</td>\n",
              "      <td>0</td>\n",
              "      <td>...</td>\n",
              "      <td>NO</td>\n",
              "      <td>Baby Boom</td>\n",
              "      <td>Medio Alto Endeudamiento</td>\n",
              "      <td>SI</td>\n",
              "      <td>13800.0</td>\n",
              "      <td>[MASTERCARD, VISA]</td>\n",
              "      <td>PICHINCHA</td>\n",
              "      <td>QUITO</td>\n",
              "      <td>139.0</td>\n",
              "      <td>OTROS</td>\n",
              "    </tr>\n",
              "  </tbody>\n",
              "</table>\n",
              "<p>5 rows × 59 columns</p>\n",
              "</div>\n",
              "      <button class=\"colab-df-convert\" onclick=\"convertToInteractive('df-e80b261d-531a-43d5-8347-2acb1ebf10a1')\"\n",
              "              title=\"Convert this dataframe to an interactive table.\"\n",
              "              style=\"display:none;\">\n",
              "        \n",
              "  <svg xmlns=\"http://www.w3.org/2000/svg\" height=\"24px\"viewBox=\"0 0 24 24\"\n",
              "       width=\"24px\">\n",
              "    <path d=\"M0 0h24v24H0V0z\" fill=\"none\"/>\n",
              "    <path d=\"M18.56 5.44l.94 2.06.94-2.06 2.06-.94-2.06-.94-.94-2.06-.94 2.06-2.06.94zm-11 1L8.5 8.5l.94-2.06 2.06-.94-2.06-.94L8.5 2.5l-.94 2.06-2.06.94zm10 10l.94 2.06.94-2.06 2.06-.94-2.06-.94-.94-2.06-.94 2.06-2.06.94z\"/><path d=\"M17.41 7.96l-1.37-1.37c-.4-.4-.92-.59-1.43-.59-.52 0-1.04.2-1.43.59L10.3 9.45l-7.72 7.72c-.78.78-.78 2.05 0 2.83L4 21.41c.39.39.9.59 1.41.59.51 0 1.02-.2 1.41-.59l7.78-7.78 2.81-2.81c.8-.78.8-2.07 0-2.86zM5.41 20L4 18.59l7.72-7.72 1.47 1.35L5.41 20z\"/>\n",
              "  </svg>\n",
              "      </button>\n",
              "      \n",
              "  <style>\n",
              "    .colab-df-container {\n",
              "      display:flex;\n",
              "      flex-wrap:wrap;\n",
              "      gap: 12px;\n",
              "    }\n",
              "\n",
              "    .colab-df-convert {\n",
              "      background-color: #E8F0FE;\n",
              "      border: none;\n",
              "      border-radius: 50%;\n",
              "      cursor: pointer;\n",
              "      display: none;\n",
              "      fill: #1967D2;\n",
              "      height: 32px;\n",
              "      padding: 0 0 0 0;\n",
              "      width: 32px;\n",
              "    }\n",
              "\n",
              "    .colab-df-convert:hover {\n",
              "      background-color: #E2EBFA;\n",
              "      box-shadow: 0px 1px 2px rgba(60, 64, 67, 0.3), 0px 1px 3px 1px rgba(60, 64, 67, 0.15);\n",
              "      fill: #174EA6;\n",
              "    }\n",
              "\n",
              "    [theme=dark] .colab-df-convert {\n",
              "      background-color: #3B4455;\n",
              "      fill: #D2E3FC;\n",
              "    }\n",
              "\n",
              "    [theme=dark] .colab-df-convert:hover {\n",
              "      background-color: #434B5C;\n",
              "      box-shadow: 0px 1px 3px 1px rgba(0, 0, 0, 0.15);\n",
              "      filter: drop-shadow(0px 1px 2px rgba(0, 0, 0, 0.3));\n",
              "      fill: #FFFFFF;\n",
              "    }\n",
              "  </style>\n",
              "\n",
              "      <script>\n",
              "        const buttonEl =\n",
              "          document.querySelector('#df-e80b261d-531a-43d5-8347-2acb1ebf10a1 button.colab-df-convert');\n",
              "        buttonEl.style.display =\n",
              "          google.colab.kernel.accessAllowed ? 'block' : 'none';\n",
              "\n",
              "        async function convertToInteractive(key) {\n",
              "          const element = document.querySelector('#df-e80b261d-531a-43d5-8347-2acb1ebf10a1');\n",
              "          const dataTable =\n",
              "            await google.colab.kernel.invokeFunction('convertToInteractive',\n",
              "                                                     [key], {});\n",
              "          if (!dataTable) return;\n",
              "\n",
              "          const docLinkHtml = 'Like what you see? Visit the ' +\n",
              "            '<a target=\"_blank\" href=https://colab.research.google.com/notebooks/data_table.ipynb>data table notebook</a>'\n",
              "            + ' to learn more about interactive tables.';\n",
              "          element.innerHTML = '';\n",
              "          dataTable['output_type'] = 'display_data';\n",
              "          await google.colab.output.renderOutput(dataTable, element);\n",
              "          const docLink = document.createElement('div');\n",
              "          docLink.innerHTML = docLinkHtml;\n",
              "          element.appendChild(docLink);\n",
              "        }\n",
              "      </script>\n",
              "    </div>\n",
              "  </div>\n",
              "  "
            ]
          },
          "metadata": {},
          "execution_count": 16
        }
      ]
    },
    {
      "cell_type": "code",
      "source": [
        "df.info()"
      ],
      "metadata": {
        "colab": {
          "base_uri": "https://localhost:8080/"
        },
        "id": "T5U9tGHEFGdy",
        "outputId": "55a520fa-bb5c-452a-c2b9-9578d9d6b5de"
      },
      "execution_count": null,
      "outputs": [
        {
          "output_type": "stream",
          "name": "stdout",
          "text": [
            "<class 'pandas.core.frame.DataFrame'>\n",
            "RangeIndex: 357579 entries, 0 to 357578\n",
            "Data columns (total 59 columns):\n",
            " #   Column                        Non-Null Count   Dtype  \n",
            "---  ------                        --------------   -----  \n",
            " 0   Tipo_Contrato                 357579 non-null  object \n",
            " 1   Sucursal                      357579 non-null  object \n",
            " 2   Servicio                      357579 non-null  object \n",
            " 3   Ultima_Milla                  357579 non-null  object \n",
            " 4   ciudad_Enlace                 357579 non-null  object \n",
            " 5   estado                        357579 non-null  object \n",
            " 6   desPlan                       357579 non-null  object \n",
            " 7   Ancho_Banda                   357579 non-null  object \n",
            " 8   Nodo                          213217 non-null  object \n",
            " 9   valor_Ultima_Milla            357579 non-null  int64  \n",
            " 10  valor_Instalacion             357579 non-null  float64\n",
            " 11  valor_Servicio                357579 non-null  float64\n",
            " 12  Periodo_Pago                  357579 non-null  object \n",
            " 13  Forma_Pago                    357502 non-null  object \n",
            " 14  MesVenta                      357579 non-null  int64  \n",
            " 15  diaVenta                      357579 non-null  int64  \n",
            " 16  desCanton                     60906 non-null   object \n",
            " 17  desProvincia                  173578 non-null  object \n",
            " 18  desParroquia                  55340 non-null   object \n",
            " 19  Fecha_1ra_Factura             297021 non-null  float64\n",
            " 20  Valor_1ra_Factura             357579 non-null  float64\n",
            " 21  Fecha_Ult_Factura             297021 non-null  float64\n",
            " 22  Valor_Ult_Factura             357579 non-null  float64\n",
            " 23  MesRegistroRequerimiento      203207 non-null  float64\n",
            " 24  MesInstalacion                114427 non-null  float64\n",
            " 25  longitud                      209283 non-null  object \n",
            " 26  latitud                       209297 non-null  object \n",
            " 27  segmentacion                  306029 non-null  object \n",
            " 28  esCelerity                    357579 non-null  object \n",
            " 29  permanencia                   198277 non-null  float64\n",
            " 30  comportamientoCliente         198277 non-null  object \n",
            " 31  fechaUltimaInstalacion        107575 non-null  object \n",
            " 32  fechaPrimeraActivacion        106340 non-null  object \n",
            " 33  fechaUltimoAgendamiento       102934 non-null  object \n",
            " 34  emisionPriFac                 297021 non-null  object \n",
            " 35  fechaTicketPrimeraInstaNuevo  146613 non-null  object \n",
            " 36  subida                        357579 non-null  int64  \n",
            " 37  des_linea_negocio             357576 non-null  object \n",
            " 38  des_producto_oracle           357576 non-null  object \n",
            " 39  des_geografia_oracle          357579 non-null  object \n",
            " 40  cobrarInstalacion             357579 non-null  object \n",
            " 41  TipoInstalacion               203130 non-null  object \n",
            " 42  morosoTipo                    166957 non-null  object \n",
            " 43  tipoRiesgo                    209480 non-null  object \n",
            " 44  capacidadPago                 154254 non-null  object \n",
            " 45  probabilidadPago              166957 non-null  object \n",
            " 46  tieneTarjeta                  209808 non-null  object \n",
            " 47  edad                          162129 non-null  float64\n",
            " 48  tipo_cobranza                 178059 non-null  object \n",
            " 49  pers_id_morosidad_cliente     178059 non-null  object \n",
            " 50  generaciones                  178059 non-null  object \n",
            " 51  tipo_sobrendeudamiento        178059 non-null  object \n",
            " 52  tiene_tarjeta                 178059 non-null  object \n",
            " 53  val_cupo                      178059 non-null  float64\n",
            " 54  tipo_marca_tarjeta            178059 non-null  object \n",
            " 55  provinciatse                  178059 non-null  object \n",
            " 56  cantontse                     178059 non-null  object \n",
            " 57  antiguedad_bancarizado        157210 non-null  float64\n",
            " 58  Forma_PagoF                   355438 non-null  object \n",
            "dtypes: float64(12), int64(4), object(43)\n",
            "memory usage: 161.0+ MB\n"
          ]
        }
      ]
    },
    {
      "cell_type": "code",
      "source": [
        "df1 = df"
      ],
      "metadata": {
        "id": "ZkfvdBb_F7qF"
      },
      "execution_count": null,
      "outputs": []
    },
    {
      "cell_type": "code",
      "source": [
        " df1.isnull().sum()"
      ],
      "metadata": {
        "colab": {
          "base_uri": "https://localhost:8080/"
        },
        "id": "dY2jh9RQFRFL",
        "outputId": "31d7a048-21e7-49fb-f5dd-b778eb10fe07"
      },
      "execution_count": null,
      "outputs": [
        {
          "output_type": "execute_result",
          "data": {
            "text/plain": [
              "Tipo_Contrato                        0\n",
              "Sucursal                             0\n",
              "Servicio                             0\n",
              "Ultima_Milla                         0\n",
              "ciudad_Enlace                        0\n",
              "estado                               0\n",
              "desPlan                              0\n",
              "Ancho_Banda                          0\n",
              "Nodo                            144362\n",
              "valor_Ultima_Milla                   0\n",
              "valor_Instalacion                    0\n",
              "valor_Servicio                       0\n",
              "Periodo_Pago                         0\n",
              "Forma_Pago                          77\n",
              "MesVenta                             0\n",
              "diaVenta                             0\n",
              "desCanton                       296673\n",
              "desProvincia                    184001\n",
              "desParroquia                    302239\n",
              "Fecha_1ra_Factura                60558\n",
              "Valor_1ra_Factura                    0\n",
              "Fecha_Ult_Factura                60558\n",
              "Valor_Ult_Factura                    0\n",
              "MesRegistroRequerimiento        154372\n",
              "MesInstalacion                  243152\n",
              "longitud                        148296\n",
              "latitud                         148282\n",
              "segmentacion                     51550\n",
              "esCelerity                           0\n",
              "permanencia                     159302\n",
              "comportamientoCliente           159302\n",
              "fechaUltimaInstalacion          250004\n",
              "fechaPrimeraActivacion          251239\n",
              "fechaUltimoAgendamiento         254645\n",
              "emisionPriFac                    60558\n",
              "fechaTicketPrimeraInstaNuevo    210966\n",
              "subida                               0\n",
              "des_linea_negocio                    3\n",
              "des_producto_oracle                  3\n",
              "des_geografia_oracle                 0\n",
              "cobrarInstalacion                    0\n",
              "TipoInstalacion                 154449\n",
              "morosoTipo                      190622\n",
              "tipoRiesgo                      148099\n",
              "capacidadPago                   203325\n",
              "probabilidadPago                190622\n",
              "tieneTarjeta                    147771\n",
              "edad                            195450\n",
              "tipo_cobranza                   179520\n",
              "pers_id_morosidad_cliente       179520\n",
              "generaciones                    179520\n",
              "tipo_sobrendeudamiento          179520\n",
              "tiene_tarjeta                   179520\n",
              "val_cupo                        179520\n",
              "tipo_marca_tarjeta              179520\n",
              "provinciatse                    179520\n",
              "cantontse                       179520\n",
              "antiguedad_bancarizado          200369\n",
              "Forma_PagoF                       2141\n",
              "dtype: int64"
            ]
          },
          "metadata": {},
          "execution_count": 19
        }
      ]
    },
    {
      "cell_type": "code",
      "source": [
        "df1.dropna(inplace = True)"
      ],
      "metadata": {
        "id": "v2AaVVQFFony"
      },
      "execution_count": null,
      "outputs": []
    },
    {
      "cell_type": "code",
      "source": [
        " df1.isnull().sum()"
      ],
      "metadata": {
        "id": "iDlB_LXtIVc2",
        "outputId": "d3f669aa-d508-4f9d-b02a-25f9bd8534cb",
        "colab": {
          "base_uri": "https://localhost:8080/"
        }
      },
      "execution_count": null,
      "outputs": [
        {
          "output_type": "execute_result",
          "data": {
            "text/plain": [
              "Tipo_Contrato                   0\n",
              "Sucursal                        0\n",
              "Servicio                        0\n",
              "Ultima_Milla                    0\n",
              "ciudad_Enlace                   0\n",
              "estado                          0\n",
              "desPlan                         0\n",
              "Ancho_Banda                     0\n",
              "Nodo                            0\n",
              "valor_Ultima_Milla              0\n",
              "valor_Instalacion               0\n",
              "valor_Servicio                  0\n",
              "Periodo_Pago                    0\n",
              "Forma_Pago                      0\n",
              "MesVenta                        0\n",
              "diaVenta                        0\n",
              "desCanton                       0\n",
              "desProvincia                    0\n",
              "desParroquia                    0\n",
              "Fecha_1ra_Factura               0\n",
              "Valor_1ra_Factura               0\n",
              "Fecha_Ult_Factura               0\n",
              "Valor_Ult_Factura               0\n",
              "MesRegistroRequerimiento        0\n",
              "MesInstalacion                  0\n",
              "longitud                        0\n",
              "latitud                         0\n",
              "segmentacion                    0\n",
              "esCelerity                      0\n",
              "permanencia                     0\n",
              "comportamientoCliente           0\n",
              "fechaUltimaInstalacion          0\n",
              "fechaPrimeraActivacion          0\n",
              "fechaUltimoAgendamiento         0\n",
              "emisionPriFac                   0\n",
              "fechaTicketPrimeraInstaNuevo    0\n",
              "subida                          0\n",
              "des_linea_negocio               0\n",
              "des_producto_oracle             0\n",
              "des_geografia_oracle            0\n",
              "cobrarInstalacion               0\n",
              "TipoInstalacion                 0\n",
              "morosoTipo                      0\n",
              "tipoRiesgo                      0\n",
              "capacidadPago                   0\n",
              "probabilidadPago                0\n",
              "tieneTarjeta                    0\n",
              "edad                            0\n",
              "tipo_cobranza                   0\n",
              "pers_id_morosidad_cliente       0\n",
              "generaciones                    0\n",
              "tipo_sobrendeudamiento          0\n",
              "tiene_tarjeta                   0\n",
              "val_cupo                        0\n",
              "tipo_marca_tarjeta              0\n",
              "provinciatse                    0\n",
              "cantontse                       0\n",
              "antiguedad_bancarizado          0\n",
              "Forma_PagoF                     0\n",
              "dtype: int64"
            ]
          },
          "metadata": {},
          "execution_count": 21
        }
      ]
    },
    {
      "cell_type": "code",
      "source": [
        "df1.info()"
      ],
      "metadata": {
        "colab": {
          "base_uri": "https://localhost:8080/"
        },
        "id": "5o1mVBU-_iaB",
        "outputId": "eaee01d5-515b-4bde-b0cc-be1cc1fe9f73"
      },
      "execution_count": null,
      "outputs": [
        {
          "output_type": "stream",
          "name": "stdout",
          "text": [
            "<class 'pandas.core.frame.DataFrame'>\n",
            "Int64Index: 9861 entries, 17 to 357565\n",
            "Data columns (total 59 columns):\n",
            " #   Column                        Non-Null Count  Dtype  \n",
            "---  ------                        --------------  -----  \n",
            " 0   Tipo_Contrato                 9861 non-null   object \n",
            " 1   Sucursal                      9861 non-null   object \n",
            " 2   Servicio                      9861 non-null   object \n",
            " 3   Ultima_Milla                  9861 non-null   object \n",
            " 4   ciudad_Enlace                 9861 non-null   object \n",
            " 5   estado                        9861 non-null   object \n",
            " 6   desPlan                       9861 non-null   object \n",
            " 7   Ancho_Banda                   9861 non-null   object \n",
            " 8   Nodo                          9861 non-null   object \n",
            " 9   valor_Ultima_Milla            9861 non-null   int64  \n",
            " 10  valor_Instalacion             9861 non-null   float64\n",
            " 11  valor_Servicio                9861 non-null   float64\n",
            " 12  Periodo_Pago                  9861 non-null   object \n",
            " 13  Forma_Pago                    9861 non-null   object \n",
            " 14  MesVenta                      9861 non-null   int64  \n",
            " 15  diaVenta                      9861 non-null   int64  \n",
            " 16  desCanton                     9861 non-null   object \n",
            " 17  desProvincia                  9861 non-null   object \n",
            " 18  desParroquia                  9861 non-null   object \n",
            " 19  Fecha_1ra_Factura             9861 non-null   float64\n",
            " 20  Valor_1ra_Factura             9861 non-null   float64\n",
            " 21  Fecha_Ult_Factura             9861 non-null   float64\n",
            " 22  Valor_Ult_Factura             9861 non-null   float64\n",
            " 23  MesRegistroRequerimiento      9861 non-null   float64\n",
            " 24  MesInstalacion                9861 non-null   float64\n",
            " 25  longitud                      9861 non-null   object \n",
            " 26  latitud                       9861 non-null   object \n",
            " 27  segmentacion                  9861 non-null   object \n",
            " 28  esCelerity                    9861 non-null   object \n",
            " 29  permanencia                   9861 non-null   float64\n",
            " 30  comportamientoCliente         9861 non-null   object \n",
            " 31  fechaUltimaInstalacion        9861 non-null   object \n",
            " 32  fechaPrimeraActivacion        9861 non-null   object \n",
            " 33  fechaUltimoAgendamiento       9861 non-null   object \n",
            " 34  emisionPriFac                 9861 non-null   object \n",
            " 35  fechaTicketPrimeraInstaNuevo  9861 non-null   object \n",
            " 36  subida                        9861 non-null   int64  \n",
            " 37  des_linea_negocio             9861 non-null   object \n",
            " 38  des_producto_oracle           9861 non-null   object \n",
            " 39  des_geografia_oracle          9861 non-null   object \n",
            " 40  cobrarInstalacion             9861 non-null   object \n",
            " 41  TipoInstalacion               9861 non-null   object \n",
            " 42  morosoTipo                    9861 non-null   object \n",
            " 43  tipoRiesgo                    9861 non-null   object \n",
            " 44  capacidadPago                 9861 non-null   object \n",
            " 45  probabilidadPago              9861 non-null   object \n",
            " 46  tieneTarjeta                  9861 non-null   object \n",
            " 47  edad                          9861 non-null   float64\n",
            " 48  tipo_cobranza                 9861 non-null   object \n",
            " 49  pers_id_morosidad_cliente     9861 non-null   object \n",
            " 50  generaciones                  9861 non-null   object \n",
            " 51  tipo_sobrendeudamiento        9861 non-null   object \n",
            " 52  tiene_tarjeta                 9861 non-null   object \n",
            " 53  val_cupo                      9861 non-null   float64\n",
            " 54  tipo_marca_tarjeta            9861 non-null   object \n",
            " 55  provinciatse                  9861 non-null   object \n",
            " 56  cantontse                     9861 non-null   object \n",
            " 57  antiguedad_bancarizado        9861 non-null   float64\n",
            " 58  Forma_PagoF                   9861 non-null   object \n",
            "dtypes: float64(12), int64(4), object(43)\n",
            "memory usage: 4.5+ MB\n"
          ]
        }
      ]
    },
    {
      "cell_type": "code",
      "source": [
        "df1.head()"
      ],
      "metadata": {
        "colab": {
          "base_uri": "https://localhost:8080/",
          "height": 456
        },
        "id": "KjukYhD3_r6S",
        "outputId": "d7ecfff8-cf85-4512-9227-9fe83acf4b5f"
      },
      "execution_count": null,
      "outputs": [
        {
          "output_type": "execute_result",
          "data": {
            "text/plain": [
              "      Tipo_Contrato       Sucursal Servicio Ultima_Milla  ciudad_Enlace  \\\n",
              "17  Cuenta Personal          Quito     Wifi  Inalambrico          Quito   \n",
              "23  Cuenta Personal          Manta     Wifi  Inalambrico          Manta   \n",
              "28  Cuenta Personal          Manta     Wifi  Inalambrico          Manta   \n",
              "31  Cuenta Personal          Manta     Wifi  Inalambrico     Portoviejo   \n",
              "33  Cuenta Personal  Santo Domingo     Wifi  Inalambrico  La Concordia    \n",
              "\n",
              "         estado                               desPlan       Ancho_Banda  \\\n",
              "17       Activo                      WIFI 2020 BASICO    8000-8000 Kbps   \n",
              "23       Activo                             WIFI 2020    8000-8000 Kbps   \n",
              "28  Desactivado       WIFI - 4Q 2016 - INSTALACION 25  3000 - 3000 kbps   \n",
              "31       Activo                      WIFI 2020 BASICO    8000-8000 Kbps   \n",
              "33       Activo  WIFI 2018 INST 50 - SEGUNDO SEMESTRE  5000 - 5000 kbps   \n",
              "\n",
              "            Nodo  valor_Ultima_Milla  ...  pers_id_morosidad_cliente  \\\n",
              "17        CriRey                   0  ...                         NO   \n",
              "23    EL Paraiso                   0  ...                         SI   \n",
              "28  10 DE AGOSTO                   0  ...                         NO   \n",
              "31    Portoviejo                   0  ...                         SI   \n",
              "33     Villegass                   0  ...                         SI   \n",
              "\n",
              "    generaciones    tipo_sobrendeudamiento tiene_tarjeta  val_cupo  \\\n",
              "17   Millennials  Medio Alto Endeudamiento            SI    4200.0   \n",
              "23  Generacion X        Alto Endeudamiento            NO       0.0   \n",
              "28   Millennials       Medio Endeudamiento            NO       0.0   \n",
              "31  Generacion X       Medio Endeudamiento            SI   20000.0   \n",
              "33     Baby Boom        Alto Endeudamiento            NO       0.0   \n",
              "\n",
              "            tipo_marca_tarjeta       provinciatse      cantontse  \\\n",
              "17                      [VISA]             CARCHI       MONTUFAR   \n",
              "23                    NO TIENE             MANABI     PORTOVIEJO   \n",
              "28                    NO TIENE             MANABI          MANTA   \n",
              "31  [DINERS, MASTERCARD, VISA]             MANABI     PORTOVIEJO   \n",
              "33                    NO TIENE  STO DGO TSACHILAS  SANTO DOMINGO   \n",
              "\n",
              "   antiguedad_bancarizado  Forma_PagoF  \n",
              "17                  113.0      AHORROS  \n",
              "23                   25.0      AHORROS  \n",
              "28                    3.0      AHORROS  \n",
              "31                  119.0      TARJETA  \n",
              "33                   61.0      AHORROS  \n",
              "\n",
              "[5 rows x 59 columns]"
            ],
            "text/html": [
              "\n",
              "  <div id=\"df-030e1f3c-9287-429d-afe9-37fb13a96f65\">\n",
              "    <div class=\"colab-df-container\">\n",
              "      <div>\n",
              "<style scoped>\n",
              "    .dataframe tbody tr th:only-of-type {\n",
              "        vertical-align: middle;\n",
              "    }\n",
              "\n",
              "    .dataframe tbody tr th {\n",
              "        vertical-align: top;\n",
              "    }\n",
              "\n",
              "    .dataframe thead th {\n",
              "        text-align: right;\n",
              "    }\n",
              "</style>\n",
              "<table border=\"1\" class=\"dataframe\">\n",
              "  <thead>\n",
              "    <tr style=\"text-align: right;\">\n",
              "      <th></th>\n",
              "      <th>Tipo_Contrato</th>\n",
              "      <th>Sucursal</th>\n",
              "      <th>Servicio</th>\n",
              "      <th>Ultima_Milla</th>\n",
              "      <th>ciudad_Enlace</th>\n",
              "      <th>estado</th>\n",
              "      <th>desPlan</th>\n",
              "      <th>Ancho_Banda</th>\n",
              "      <th>Nodo</th>\n",
              "      <th>valor_Ultima_Milla</th>\n",
              "      <th>...</th>\n",
              "      <th>pers_id_morosidad_cliente</th>\n",
              "      <th>generaciones</th>\n",
              "      <th>tipo_sobrendeudamiento</th>\n",
              "      <th>tiene_tarjeta</th>\n",
              "      <th>val_cupo</th>\n",
              "      <th>tipo_marca_tarjeta</th>\n",
              "      <th>provinciatse</th>\n",
              "      <th>cantontse</th>\n",
              "      <th>antiguedad_bancarizado</th>\n",
              "      <th>Forma_PagoF</th>\n",
              "    </tr>\n",
              "  </thead>\n",
              "  <tbody>\n",
              "    <tr>\n",
              "      <th>17</th>\n",
              "      <td>Cuenta Personal</td>\n",
              "      <td>Quito</td>\n",
              "      <td>Wifi</td>\n",
              "      <td>Inalambrico</td>\n",
              "      <td>Quito</td>\n",
              "      <td>Activo</td>\n",
              "      <td>WIFI 2020 BASICO</td>\n",
              "      <td>8000-8000 Kbps</td>\n",
              "      <td>CriRey</td>\n",
              "      <td>0</td>\n",
              "      <td>...</td>\n",
              "      <td>NO</td>\n",
              "      <td>Millennials</td>\n",
              "      <td>Medio Alto Endeudamiento</td>\n",
              "      <td>SI</td>\n",
              "      <td>4200.0</td>\n",
              "      <td>[VISA]</td>\n",
              "      <td>CARCHI</td>\n",
              "      <td>MONTUFAR</td>\n",
              "      <td>113.0</td>\n",
              "      <td>AHORROS</td>\n",
              "    </tr>\n",
              "    <tr>\n",
              "      <th>23</th>\n",
              "      <td>Cuenta Personal</td>\n",
              "      <td>Manta</td>\n",
              "      <td>Wifi</td>\n",
              "      <td>Inalambrico</td>\n",
              "      <td>Manta</td>\n",
              "      <td>Activo</td>\n",
              "      <td>WIFI 2020</td>\n",
              "      <td>8000-8000 Kbps</td>\n",
              "      <td>EL Paraiso</td>\n",
              "      <td>0</td>\n",
              "      <td>...</td>\n",
              "      <td>SI</td>\n",
              "      <td>Generacion X</td>\n",
              "      <td>Alto Endeudamiento</td>\n",
              "      <td>NO</td>\n",
              "      <td>0.0</td>\n",
              "      <td>NO TIENE</td>\n",
              "      <td>MANABI</td>\n",
              "      <td>PORTOVIEJO</td>\n",
              "      <td>25.0</td>\n",
              "      <td>AHORROS</td>\n",
              "    </tr>\n",
              "    <tr>\n",
              "      <th>28</th>\n",
              "      <td>Cuenta Personal</td>\n",
              "      <td>Manta</td>\n",
              "      <td>Wifi</td>\n",
              "      <td>Inalambrico</td>\n",
              "      <td>Manta</td>\n",
              "      <td>Desactivado</td>\n",
              "      <td>WIFI - 4Q 2016 - INSTALACION 25</td>\n",
              "      <td>3000 - 3000 kbps</td>\n",
              "      <td>10 DE AGOSTO</td>\n",
              "      <td>0</td>\n",
              "      <td>...</td>\n",
              "      <td>NO</td>\n",
              "      <td>Millennials</td>\n",
              "      <td>Medio Endeudamiento</td>\n",
              "      <td>NO</td>\n",
              "      <td>0.0</td>\n",
              "      <td>NO TIENE</td>\n",
              "      <td>MANABI</td>\n",
              "      <td>MANTA</td>\n",
              "      <td>3.0</td>\n",
              "      <td>AHORROS</td>\n",
              "    </tr>\n",
              "    <tr>\n",
              "      <th>31</th>\n",
              "      <td>Cuenta Personal</td>\n",
              "      <td>Manta</td>\n",
              "      <td>Wifi</td>\n",
              "      <td>Inalambrico</td>\n",
              "      <td>Portoviejo</td>\n",
              "      <td>Activo</td>\n",
              "      <td>WIFI 2020 BASICO</td>\n",
              "      <td>8000-8000 Kbps</td>\n",
              "      <td>Portoviejo</td>\n",
              "      <td>0</td>\n",
              "      <td>...</td>\n",
              "      <td>SI</td>\n",
              "      <td>Generacion X</td>\n",
              "      <td>Medio Endeudamiento</td>\n",
              "      <td>SI</td>\n",
              "      <td>20000.0</td>\n",
              "      <td>[DINERS, MASTERCARD, VISA]</td>\n",
              "      <td>MANABI</td>\n",
              "      <td>PORTOVIEJO</td>\n",
              "      <td>119.0</td>\n",
              "      <td>TARJETA</td>\n",
              "    </tr>\n",
              "    <tr>\n",
              "      <th>33</th>\n",
              "      <td>Cuenta Personal</td>\n",
              "      <td>Santo Domingo</td>\n",
              "      <td>Wifi</td>\n",
              "      <td>Inalambrico</td>\n",
              "      <td>La Concordia</td>\n",
              "      <td>Activo</td>\n",
              "      <td>WIFI 2018 INST 50 - SEGUNDO SEMESTRE</td>\n",
              "      <td>5000 - 5000 kbps</td>\n",
              "      <td>Villegass</td>\n",
              "      <td>0</td>\n",
              "      <td>...</td>\n",
              "      <td>SI</td>\n",
              "      <td>Baby Boom</td>\n",
              "      <td>Alto Endeudamiento</td>\n",
              "      <td>NO</td>\n",
              "      <td>0.0</td>\n",
              "      <td>NO TIENE</td>\n",
              "      <td>STO DGO TSACHILAS</td>\n",
              "      <td>SANTO DOMINGO</td>\n",
              "      <td>61.0</td>\n",
              "      <td>AHORROS</td>\n",
              "    </tr>\n",
              "  </tbody>\n",
              "</table>\n",
              "<p>5 rows × 59 columns</p>\n",
              "</div>\n",
              "      <button class=\"colab-df-convert\" onclick=\"convertToInteractive('df-030e1f3c-9287-429d-afe9-37fb13a96f65')\"\n",
              "              title=\"Convert this dataframe to an interactive table.\"\n",
              "              style=\"display:none;\">\n",
              "        \n",
              "  <svg xmlns=\"http://www.w3.org/2000/svg\" height=\"24px\"viewBox=\"0 0 24 24\"\n",
              "       width=\"24px\">\n",
              "    <path d=\"M0 0h24v24H0V0z\" fill=\"none\"/>\n",
              "    <path d=\"M18.56 5.44l.94 2.06.94-2.06 2.06-.94-2.06-.94-.94-2.06-.94 2.06-2.06.94zm-11 1L8.5 8.5l.94-2.06 2.06-.94-2.06-.94L8.5 2.5l-.94 2.06-2.06.94zm10 10l.94 2.06.94-2.06 2.06-.94-2.06-.94-.94-2.06-.94 2.06-2.06.94z\"/><path d=\"M17.41 7.96l-1.37-1.37c-.4-.4-.92-.59-1.43-.59-.52 0-1.04.2-1.43.59L10.3 9.45l-7.72 7.72c-.78.78-.78 2.05 0 2.83L4 21.41c.39.39.9.59 1.41.59.51 0 1.02-.2 1.41-.59l7.78-7.78 2.81-2.81c.8-.78.8-2.07 0-2.86zM5.41 20L4 18.59l7.72-7.72 1.47 1.35L5.41 20z\"/>\n",
              "  </svg>\n",
              "      </button>\n",
              "      \n",
              "  <style>\n",
              "    .colab-df-container {\n",
              "      display:flex;\n",
              "      flex-wrap:wrap;\n",
              "      gap: 12px;\n",
              "    }\n",
              "\n",
              "    .colab-df-convert {\n",
              "      background-color: #E8F0FE;\n",
              "      border: none;\n",
              "      border-radius: 50%;\n",
              "      cursor: pointer;\n",
              "      display: none;\n",
              "      fill: #1967D2;\n",
              "      height: 32px;\n",
              "      padding: 0 0 0 0;\n",
              "      width: 32px;\n",
              "    }\n",
              "\n",
              "    .colab-df-convert:hover {\n",
              "      background-color: #E2EBFA;\n",
              "      box-shadow: 0px 1px 2px rgba(60, 64, 67, 0.3), 0px 1px 3px 1px rgba(60, 64, 67, 0.15);\n",
              "      fill: #174EA6;\n",
              "    }\n",
              "\n",
              "    [theme=dark] .colab-df-convert {\n",
              "      background-color: #3B4455;\n",
              "      fill: #D2E3FC;\n",
              "    }\n",
              "\n",
              "    [theme=dark] .colab-df-convert:hover {\n",
              "      background-color: #434B5C;\n",
              "      box-shadow: 0px 1px 3px 1px rgba(0, 0, 0, 0.15);\n",
              "      filter: drop-shadow(0px 1px 2px rgba(0, 0, 0, 0.3));\n",
              "      fill: #FFFFFF;\n",
              "    }\n",
              "  </style>\n",
              "\n",
              "      <script>\n",
              "        const buttonEl =\n",
              "          document.querySelector('#df-030e1f3c-9287-429d-afe9-37fb13a96f65 button.colab-df-convert');\n",
              "        buttonEl.style.display =\n",
              "          google.colab.kernel.accessAllowed ? 'block' : 'none';\n",
              "\n",
              "        async function convertToInteractive(key) {\n",
              "          const element = document.querySelector('#df-030e1f3c-9287-429d-afe9-37fb13a96f65');\n",
              "          const dataTable =\n",
              "            await google.colab.kernel.invokeFunction('convertToInteractive',\n",
              "                                                     [key], {});\n",
              "          if (!dataTable) return;\n",
              "\n",
              "          const docLinkHtml = 'Like what you see? Visit the ' +\n",
              "            '<a target=\"_blank\" href=https://colab.research.google.com/notebooks/data_table.ipynb>data table notebook</a>'\n",
              "            + ' to learn more about interactive tables.';\n",
              "          element.innerHTML = '';\n",
              "          dataTable['output_type'] = 'display_data';\n",
              "          await google.colab.output.renderOutput(dataTable, element);\n",
              "          const docLink = document.createElement('div');\n",
              "          docLink.innerHTML = docLinkHtml;\n",
              "          element.appendChild(docLink);\n",
              "        }\n",
              "      </script>\n",
              "    </div>\n",
              "  </div>\n",
              "  "
            ]
          },
          "metadata": {},
          "execution_count": 23
        }
      ]
    },
    {
      "cell_type": "code",
      "source": [
        "df3 = df[['comportamientoCliente', 'edad', 'generaciones']]"
      ],
      "metadata": {
        "id": "VpiBnVBZQeIM"
      },
      "execution_count": null,
      "outputs": []
    },
    {
      "cell_type": "code",
      "source": [
        "df1['comportamientoCliente'].replace(to_replace='MUY ESTABLE', value=1, inplace=True)\n",
        "df1['comportamientoCliente'].replace(to_replace='ESTABLE', value=2, inplace=True)\n",
        "df1['comportamientoCliente'].replace(to_replace='POCO ESTABLE', value=3, inplace=True)\n",
        "df1['comportamientoCliente'].replace(to_replace='MUY INESTABLE', value=4, inplace=True)\n",
        "df1['generaciones'].replace(to_replace='No Definido', value=1, inplace=True)\n",
        "df1['generaciones'].replace(to_replace='Silent Generation', value=2, inplace=True)\n",
        "df1['generaciones'].replace(to_replace='Baby Boom', value=3, inplace=True)\n",
        "df1['generaciones'].replace(to_replace='Generacion X', value=4, inplace=True)\n",
        "df1['generaciones'].replace(to_replace='Millennials', value=5, inplace=True)\n",
        "df1['generaciones'].replace(to_replace='Centenials', value=6, inplace=True)"
      ],
      "metadata": {
        "id": "KcgdSQPHADLX"
      },
      "execution_count": null,
      "outputs": []
    },
    {
      "cell_type": "code",
      "source": [
        "df1.info()"
      ],
      "metadata": {
        "colab": {
          "base_uri": "https://localhost:8080/"
        },
        "id": "7DP3NqlVGKwk",
        "outputId": "be169176-9574-4200-9212-78c4531440da"
      },
      "execution_count": null,
      "outputs": [
        {
          "output_type": "stream",
          "name": "stdout",
          "text": [
            "<class 'pandas.core.frame.DataFrame'>\n",
            "Int64Index: 9861 entries, 17 to 357565\n",
            "Data columns (total 59 columns):\n",
            " #   Column                        Non-Null Count  Dtype  \n",
            "---  ------                        --------------  -----  \n",
            " 0   Tipo_Contrato                 9861 non-null   object \n",
            " 1   Sucursal                      9861 non-null   object \n",
            " 2   Servicio                      9861 non-null   object \n",
            " 3   Ultima_Milla                  9861 non-null   object \n",
            " 4   ciudad_Enlace                 9861 non-null   object \n",
            " 5   estado                        9861 non-null   object \n",
            " 6   desPlan                       9861 non-null   object \n",
            " 7   Ancho_Banda                   9861 non-null   object \n",
            " 8   Nodo                          9861 non-null   object \n",
            " 9   valor_Ultima_Milla            9861 non-null   int64  \n",
            " 10  valor_Instalacion             9861 non-null   float64\n",
            " 11  valor_Servicio                9861 non-null   float64\n",
            " 12  Periodo_Pago                  9861 non-null   object \n",
            " 13  Forma_Pago                    9861 non-null   object \n",
            " 14  MesVenta                      9861 non-null   int64  \n",
            " 15  diaVenta                      9861 non-null   int64  \n",
            " 16  desCanton                     9861 non-null   object \n",
            " 17  desProvincia                  9861 non-null   object \n",
            " 18  desParroquia                  9861 non-null   object \n",
            " 19  Fecha_1ra_Factura             9861 non-null   float64\n",
            " 20  Valor_1ra_Factura             9861 non-null   float64\n",
            " 21  Fecha_Ult_Factura             9861 non-null   float64\n",
            " 22  Valor_Ult_Factura             9861 non-null   float64\n",
            " 23  MesRegistroRequerimiento      9861 non-null   float64\n",
            " 24  MesInstalacion                9861 non-null   float64\n",
            " 25  longitud                      9861 non-null   object \n",
            " 26  latitud                       9861 non-null   object \n",
            " 27  segmentacion                  9861 non-null   object \n",
            " 28  esCelerity                    9861 non-null   object \n",
            " 29  permanencia                   9861 non-null   float64\n",
            " 30  comportamientoCliente         9861 non-null   int64  \n",
            " 31  fechaUltimaInstalacion        9861 non-null   object \n",
            " 32  fechaPrimeraActivacion        9861 non-null   object \n",
            " 33  fechaUltimoAgendamiento       9861 non-null   object \n",
            " 34  emisionPriFac                 9861 non-null   object \n",
            " 35  fechaTicketPrimeraInstaNuevo  9861 non-null   object \n",
            " 36  subida                        9861 non-null   int64  \n",
            " 37  des_linea_negocio             9861 non-null   object \n",
            " 38  des_producto_oracle           9861 non-null   object \n",
            " 39  des_geografia_oracle          9861 non-null   object \n",
            " 40  cobrarInstalacion             9861 non-null   object \n",
            " 41  TipoInstalacion               9861 non-null   object \n",
            " 42  morosoTipo                    9861 non-null   object \n",
            " 43  tipoRiesgo                    9861 non-null   object \n",
            " 44  capacidadPago                 9861 non-null   object \n",
            " 45  probabilidadPago              9861 non-null   object \n",
            " 46  tieneTarjeta                  9861 non-null   object \n",
            " 47  edad                          9861 non-null   float64\n",
            " 48  tipo_cobranza                 9861 non-null   object \n",
            " 49  pers_id_morosidad_cliente     9861 non-null   object \n",
            " 50  generaciones                  9861 non-null   int64  \n",
            " 51  tipo_sobrendeudamiento        9861 non-null   object \n",
            " 52  tiene_tarjeta                 9861 non-null   object \n",
            " 53  val_cupo                      9861 non-null   float64\n",
            " 54  tipo_marca_tarjeta            9861 non-null   object \n",
            " 55  provinciatse                  9861 non-null   object \n",
            " 56  cantontse                     9861 non-null   object \n",
            " 57  antiguedad_bancarizado        9861 non-null   float64\n",
            " 58  Forma_PagoF                   9861 non-null   object \n",
            "dtypes: float64(12), int64(6), object(41)\n",
            "memory usage: 4.5+ MB\n"
          ]
        }
      ]
    },
    {
      "cell_type": "code",
      "source": [
        "df2 = df1[['comportamientoCliente', 'edad', 'generaciones']]\n",
        "df2.head()"
      ],
      "metadata": {
        "colab": {
          "base_uri": "https://localhost:8080/",
          "height": 206
        },
        "id": "DQKYWjjsGfti",
        "outputId": "0e4cae0d-9745-42a0-f81d-cf0a0b951d2b"
      },
      "execution_count": null,
      "outputs": [
        {
          "output_type": "execute_result",
          "data": {
            "text/plain": [
              "    comportamientoCliente  edad  generaciones\n",
              "17                      2  31.0             5\n",
              "23                      2  41.0             4\n",
              "28                      1  28.0             5\n",
              "31                      1  48.0             4\n",
              "33                      2  53.0             3"
            ],
            "text/html": [
              "\n",
              "  <div id=\"df-01da8fe8-6d92-471b-b096-f5ee805915f6\">\n",
              "    <div class=\"colab-df-container\">\n",
              "      <div>\n",
              "<style scoped>\n",
              "    .dataframe tbody tr th:only-of-type {\n",
              "        vertical-align: middle;\n",
              "    }\n",
              "\n",
              "    .dataframe tbody tr th {\n",
              "        vertical-align: top;\n",
              "    }\n",
              "\n",
              "    .dataframe thead th {\n",
              "        text-align: right;\n",
              "    }\n",
              "</style>\n",
              "<table border=\"1\" class=\"dataframe\">\n",
              "  <thead>\n",
              "    <tr style=\"text-align: right;\">\n",
              "      <th></th>\n",
              "      <th>comportamientoCliente</th>\n",
              "      <th>edad</th>\n",
              "      <th>generaciones</th>\n",
              "    </tr>\n",
              "  </thead>\n",
              "  <tbody>\n",
              "    <tr>\n",
              "      <th>17</th>\n",
              "      <td>2</td>\n",
              "      <td>31.0</td>\n",
              "      <td>5</td>\n",
              "    </tr>\n",
              "    <tr>\n",
              "      <th>23</th>\n",
              "      <td>2</td>\n",
              "      <td>41.0</td>\n",
              "      <td>4</td>\n",
              "    </tr>\n",
              "    <tr>\n",
              "      <th>28</th>\n",
              "      <td>1</td>\n",
              "      <td>28.0</td>\n",
              "      <td>5</td>\n",
              "    </tr>\n",
              "    <tr>\n",
              "      <th>31</th>\n",
              "      <td>1</td>\n",
              "      <td>48.0</td>\n",
              "      <td>4</td>\n",
              "    </tr>\n",
              "    <tr>\n",
              "      <th>33</th>\n",
              "      <td>2</td>\n",
              "      <td>53.0</td>\n",
              "      <td>3</td>\n",
              "    </tr>\n",
              "  </tbody>\n",
              "</table>\n",
              "</div>\n",
              "      <button class=\"colab-df-convert\" onclick=\"convertToInteractive('df-01da8fe8-6d92-471b-b096-f5ee805915f6')\"\n",
              "              title=\"Convert this dataframe to an interactive table.\"\n",
              "              style=\"display:none;\">\n",
              "        \n",
              "  <svg xmlns=\"http://www.w3.org/2000/svg\" height=\"24px\"viewBox=\"0 0 24 24\"\n",
              "       width=\"24px\">\n",
              "    <path d=\"M0 0h24v24H0V0z\" fill=\"none\"/>\n",
              "    <path d=\"M18.56 5.44l.94 2.06.94-2.06 2.06-.94-2.06-.94-.94-2.06-.94 2.06-2.06.94zm-11 1L8.5 8.5l.94-2.06 2.06-.94-2.06-.94L8.5 2.5l-.94 2.06-2.06.94zm10 10l.94 2.06.94-2.06 2.06-.94-2.06-.94-.94-2.06-.94 2.06-2.06.94z\"/><path d=\"M17.41 7.96l-1.37-1.37c-.4-.4-.92-.59-1.43-.59-.52 0-1.04.2-1.43.59L10.3 9.45l-7.72 7.72c-.78.78-.78 2.05 0 2.83L4 21.41c.39.39.9.59 1.41.59.51 0 1.02-.2 1.41-.59l7.78-7.78 2.81-2.81c.8-.78.8-2.07 0-2.86zM5.41 20L4 18.59l7.72-7.72 1.47 1.35L5.41 20z\"/>\n",
              "  </svg>\n",
              "      </button>\n",
              "      \n",
              "  <style>\n",
              "    .colab-df-container {\n",
              "      display:flex;\n",
              "      flex-wrap:wrap;\n",
              "      gap: 12px;\n",
              "    }\n",
              "\n",
              "    .colab-df-convert {\n",
              "      background-color: #E8F0FE;\n",
              "      border: none;\n",
              "      border-radius: 50%;\n",
              "      cursor: pointer;\n",
              "      display: none;\n",
              "      fill: #1967D2;\n",
              "      height: 32px;\n",
              "      padding: 0 0 0 0;\n",
              "      width: 32px;\n",
              "    }\n",
              "\n",
              "    .colab-df-convert:hover {\n",
              "      background-color: #E2EBFA;\n",
              "      box-shadow: 0px 1px 2px rgba(60, 64, 67, 0.3), 0px 1px 3px 1px rgba(60, 64, 67, 0.15);\n",
              "      fill: #174EA6;\n",
              "    }\n",
              "\n",
              "    [theme=dark] .colab-df-convert {\n",
              "      background-color: #3B4455;\n",
              "      fill: #D2E3FC;\n",
              "    }\n",
              "\n",
              "    [theme=dark] .colab-df-convert:hover {\n",
              "      background-color: #434B5C;\n",
              "      box-shadow: 0px 1px 3px 1px rgba(0, 0, 0, 0.15);\n",
              "      filter: drop-shadow(0px 1px 2px rgba(0, 0, 0, 0.3));\n",
              "      fill: #FFFFFF;\n",
              "    }\n",
              "  </style>\n",
              "\n",
              "      <script>\n",
              "        const buttonEl =\n",
              "          document.querySelector('#df-01da8fe8-6d92-471b-b096-f5ee805915f6 button.colab-df-convert');\n",
              "        buttonEl.style.display =\n",
              "          google.colab.kernel.accessAllowed ? 'block' : 'none';\n",
              "\n",
              "        async function convertToInteractive(key) {\n",
              "          const element = document.querySelector('#df-01da8fe8-6d92-471b-b096-f5ee805915f6');\n",
              "          const dataTable =\n",
              "            await google.colab.kernel.invokeFunction('convertToInteractive',\n",
              "                                                     [key], {});\n",
              "          if (!dataTable) return;\n",
              "\n",
              "          const docLinkHtml = 'Like what you see? Visit the ' +\n",
              "            '<a target=\"_blank\" href=https://colab.research.google.com/notebooks/data_table.ipynb>data table notebook</a>'\n",
              "            + ' to learn more about interactive tables.';\n",
              "          element.innerHTML = '';\n",
              "          dataTable['output_type'] = 'display_data';\n",
              "          await google.colab.output.renderOutput(dataTable, element);\n",
              "          const docLink = document.createElement('div');\n",
              "          docLink.innerHTML = docLinkHtml;\n",
              "          element.appendChild(docLink);\n",
              "        }\n",
              "      </script>\n",
              "    </div>\n",
              "  </div>\n",
              "  "
            ]
          },
          "metadata": {},
          "execution_count": 27
        }
      ]
    },
    {
      "cell_type": "code",
      "source": [
        "df2.info()"
      ],
      "metadata": {
        "colab": {
          "base_uri": "https://localhost:8080/"
        },
        "id": "PclR_ElHQ7T4",
        "outputId": "8db1665b-f227-4a2f-e370-ed172e17bd2d"
      },
      "execution_count": null,
      "outputs": [
        {
          "output_type": "stream",
          "name": "stdout",
          "text": [
            "<class 'pandas.core.frame.DataFrame'>\n",
            "Int64Index: 9861 entries, 17 to 357565\n",
            "Data columns (total 3 columns):\n",
            " #   Column                 Non-Null Count  Dtype  \n",
            "---  ------                 --------------  -----  \n",
            " 0   comportamientoCliente  9861 non-null   int64  \n",
            " 1   edad                   9861 non-null   float64\n",
            " 2   generaciones           9861 non-null   int64  \n",
            "dtypes: float64(1), int64(2)\n",
            "memory usage: 308.2 KB\n"
          ]
        }
      ]
    },
    {
      "cell_type": "code",
      "source": [
        "# Instanciar escalador estándar\n",
        "scaler = StandardScaler()\n",
        "# Ajustar y transformar datos\n",
        "scaled_df2 = scaler.fit_transform(df2)"
      ],
      "metadata": {
        "id": "xd_dnLLQUrD5"
      },
      "execution_count": null,
      "outputs": []
    },
    {
      "cell_type": "code",
      "source": [
        "# Instanciar agrupamiento\n",
        "hc = AgglomerativeClustering(n_clusters = 3)\n",
        "hc.fit(scaled_df2)\n"
      ],
      "metadata": {
        "colab": {
          "base_uri": "https://localhost:8080/"
        },
        "id": "Bdjc2es0URyi",
        "outputId": "1e6488fb-93b4-402c-d5e3-590f3e5d8ed0"
      },
      "execution_count": null,
      "outputs": [
        {
          "output_type": "execute_result",
          "data": {
            "text/plain": [
              "AgglomerativeClustering(n_clusters=3)"
            ]
          },
          "metadata": {},
          "execution_count": 30
        }
      ]
    },
    {
      "cell_type": "code",
      "source": [
        "# Guardar las etiquetas del clúster en el marco de datos\n",
        "df2['cluster'] = hc.labels_\n",
        "# Visualizar los clusters\n",
        "plt.figure(figsize=(16,5))\n",
        "plt.scatter(df2['comportamientoCliente'], df2['generaciones'], c = df2['cluster'])\n",
        "plt.xlabel('comportamientoCliente')\n",
        "plt.ylabel('generaciones')\n",
        "plt.title('Clusters de Comportamineto');"
      ],
      "metadata": {
        "colab": {
          "base_uri": "https://localhost:8080/",
          "height": 460
        },
        "id": "Gou8Wk8MUzyF",
        "outputId": "b43534fd-13fd-40b4-8069-f64096da4f28"
      },
      "execution_count": null,
      "outputs": [
        {
          "output_type": "stream",
          "name": "stderr",
          "text": [
            "/usr/local/lib/python3.7/dist-packages/ipykernel_launcher.py:2: SettingWithCopyWarning: \n",
            "A value is trying to be set on a copy of a slice from a DataFrame.\n",
            "Try using .loc[row_indexer,col_indexer] = value instead\n",
            "\n",
            "See the caveats in the documentation: https://pandas.pydata.org/pandas-docs/stable/user_guide/indexing.html#returning-a-view-versus-a-copy\n",
            "  \n"
          ]
        },
        {
          "output_type": "display_data",
          "data": {
            "text/plain": [
              "<Figure size 1152x360 with 1 Axes>"
            ],
            "image/png": "[encoded data removed]"
          },
          "metadata": {
            "needs_background": "light"
          }
        }
      ]
    },
    {
      "cell_type": "code",
      "source": [
        "# Guardar las etiquetas del clúster en el marco de datos\n",
        "df2['cluster'] = hc.labels_\n",
        "# Visualizar los clusters\n",
        "plt.figure(figsize=(16,5))\n",
        "plt.scatter(df2['comportamientoCliente'], df2['edad'], c = df2['cluster'])\n",
        "plt.xlabel('comportamientoCliente')\n",
        "plt.ylabel('edad')\n",
        "plt.title('Clusters de Comportamineto');"
      ],
      "metadata": {
        "colab": {
          "base_uri": "https://localhost:8080/",
          "height": 460
        },
        "id": "cGGtyyG_WctZ",
        "outputId": "050ffbd0-e1cf-4ff0-b2bf-383b39a4398c"
      },
      "execution_count": null,
      "outputs": [
        {
          "output_type": "stream",
          "name": "stderr",
          "text": [
            "/usr/local/lib/python3.7/dist-packages/ipykernel_launcher.py:2: SettingWithCopyWarning: \n",
            "A value is trying to be set on a copy of a slice from a DataFrame.\n",
            "Try using .loc[row_indexer,col_indexer] = value instead\n",
            "\n",
            "See the caveats in the documentation: https://pandas.pydata.org/pandas-docs/stable/user_guide/indexing.html#returning-a-view-versus-a-copy\n",
            "  \n"
          ]
        },
        {
          "output_type": "display_data",
          "data": {
            "text/plain": [
              "<Figure size 1152x360 with 1 Axes>"
            ],
            "image/png": "[encoded data removed]"
          },
          "metadata": {
            "needs_background": "light"
          }
        }
      ]
    },
    {
      "cell_type": "code",
      "source": [
        "df3\n",
        "df3.head()"
      ],
      "metadata": {
        "colab": {
          "base_uri": "https://localhost:8080/",
          "height": 206
        },
        "id": "u1kP_hSKKA_a",
        "outputId": "0cd61e80-d9da-40fd-9831-9f78f572acbf"
      },
      "execution_count": null,
      "outputs": [
        {
          "output_type": "execute_result",
          "data": {
            "text/plain": [
              "   comportamientoCliente  edad  generaciones\n",
              "17               ESTABLE  31.0   Millennials\n",
              "23               ESTABLE  41.0  Generacion X\n",
              "28           MUY ESTABLE  28.0   Millennials\n",
              "31           MUY ESTABLE  48.0  Generacion X\n",
              "33               ESTABLE  53.0     Baby Boom"
            ],
            "text/html": [
              "\n",
              "  <div id=\"df-6f212cc4-0a7e-4cd6-8e9a-7d7bd5c92f36\">\n",
              "    <div class=\"colab-df-container\">\n",
              "      <div>\n",
              "<style scoped>\n",
              "    .dataframe tbody tr th:only-of-type {\n",
              "        vertical-align: middle;\n",
              "    }\n",
              "\n",
              "    .dataframe tbody tr th {\n",
              "        vertical-align: top;\n",
              "    }\n",
              "\n",
              "    .dataframe thead th {\n",
              "        text-align: right;\n",
              "    }\n",
              "</style>\n",
              "<table border=\"1\" class=\"dataframe\">\n",
              "  <thead>\n",
              "    <tr style=\"text-align: right;\">\n",
              "      <th></th>\n",
              "      <th>comportamientoCliente</th>\n",
              "      <th>edad</th>\n",
              "      <th>generaciones</th>\n",
              "    </tr>\n",
              "  </thead>\n",
              "  <tbody>\n",
              "    <tr>\n",
              "      <th>17</th>\n",
              "      <td>ESTABLE</td>\n",
              "      <td>31.0</td>\n",
              "      <td>Millennials</td>\n",
              "    </tr>\n",
              "    <tr>\n",
              "      <th>23</th>\n",
              "      <td>ESTABLE</td>\n",
              "      <td>41.0</td>\n",
              "      <td>Generacion X</td>\n",
              "    </tr>\n",
              "    <tr>\n",
              "      <th>28</th>\n",
              "      <td>MUY ESTABLE</td>\n",
              "      <td>28.0</td>\n",
              "      <td>Millennials</td>\n",
              "    </tr>\n",
              "    <tr>\n",
              "      <th>31</th>\n",
              "      <td>MUY ESTABLE</td>\n",
              "      <td>48.0</td>\n",
              "      <td>Generacion X</td>\n",
              "    </tr>\n",
              "    <tr>\n",
              "      <th>33</th>\n",
              "      <td>ESTABLE</td>\n",
              "      <td>53.0</td>\n",
              "      <td>Baby Boom</td>\n",
              "    </tr>\n",
              "  </tbody>\n",
              "</table>\n",
              "</div>\n",
              "      <button class=\"colab-df-convert\" onclick=\"convertToInteractive('df-6f212cc4-0a7e-4cd6-8e9a-7d7bd5c92f36')\"\n",
              "              title=\"Convert this dataframe to an interactive table.\"\n",
              "              style=\"display:none;\">\n",
              "        \n",
              "  <svg xmlns=\"http://www.w3.org/2000/svg\" height=\"24px\"viewBox=\"0 0 24 24\"\n",
              "       width=\"24px\">\n",
              "    <path d=\"M0 0h24v24H0V0z\" fill=\"none\"/>\n",
              "    <path d=\"M18.56 5.44l.94 2.06.94-2.06 2.06-.94-2.06-.94-.94-2.06-.94 2.06-2.06.94zm-11 1L8.5 8.5l.94-2.06 2.06-.94-2.06-.94L8.5 2.5l-.94 2.06-2.06.94zm10 10l.94 2.06.94-2.06 2.06-.94-2.06-.94-.94-2.06-.94 2.06-2.06.94z\"/><path d=\"M17.41 7.96l-1.37-1.37c-.4-.4-.92-.59-1.43-.59-.52 0-1.04.2-1.43.59L10.3 9.45l-7.72 7.72c-.78.78-.78 2.05 0 2.83L4 21.41c.39.39.9.59 1.41.59.51 0 1.02-.2 1.41-.59l7.78-7.78 2.81-2.81c.8-.78.8-2.07 0-2.86zM5.41 20L4 18.59l7.72-7.72 1.47 1.35L5.41 20z\"/>\n",
              "  </svg>\n",
              "      </button>\n",
              "      \n",
              "  <style>\n",
              "    .colab-df-container {\n",
              "      display:flex;\n",
              "      flex-wrap:wrap;\n",
              "      gap: 12px;\n",
              "    }\n",
              "\n",
              "    .colab-df-convert {\n",
              "      background-color: #E8F0FE;\n",
              "      border: none;\n",
              "      border-radius: 50%;\n",
              "      cursor: pointer;\n",
              "      display: none;\n",
              "      fill: #1967D2;\n",
              "      height: 32px;\n",
              "      padding: 0 0 0 0;\n",
              "      width: 32px;\n",
              "    }\n",
              "\n",
              "    .colab-df-convert:hover {\n",
              "      background-color: #E2EBFA;\n",
              "      box-shadow: 0px 1px 2px rgba(60, 64, 67, 0.3), 0px 1px 3px 1px rgba(60, 64, 67, 0.15);\n",
              "      fill: #174EA6;\n",
              "    }\n",
              "\n",
              "    [theme=dark] .colab-df-convert {\n",
              "      background-color: #3B4455;\n",
              "      fill: #D2E3FC;\n",
              "    }\n",
              "\n",
              "    [theme=dark] .colab-df-convert:hover {\n",
              "      background-color: #434B5C;\n",
              "      box-shadow: 0px 1px 3px 1px rgba(0, 0, 0, 0.15);\n",
              "      filter: drop-shadow(0px 1px 2px rgba(0, 0, 0, 0.3));\n",
              "      fill: #FFFFFF;\n",
              "    }\n",
              "  </style>\n",
              "\n",
              "      <script>\n",
              "        const buttonEl =\n",
              "          document.querySelector('#df-6f212cc4-0a7e-4cd6-8e9a-7d7bd5c92f36 button.colab-df-convert');\n",
              "        buttonEl.style.display =\n",
              "          google.colab.kernel.accessAllowed ? 'block' : 'none';\n",
              "\n",
              "        async function convertToInteractive(key) {\n",
              "          const element = document.querySelector('#df-6f212cc4-0a7e-4cd6-8e9a-7d7bd5c92f36');\n",
              "          const dataTable =\n",
              "            await google.colab.kernel.invokeFunction('convertToInteractive',\n",
              "                                                     [key], {});\n",
              "          if (!dataTable) return;\n",
              "\n",
              "          const docLinkHtml = 'Like what you see? Visit the ' +\n",
              "            '<a target=\"_blank\" href=https://colab.research.google.com/notebooks/data_table.ipynb>data table notebook</a>'\n",
              "            + ' to learn more about interactive tables.';\n",
              "          element.innerHTML = '';\n",
              "          dataTable['output_type'] = 'display_data';\n",
              "          await google.colab.output.renderOutput(dataTable, element);\n",
              "          const docLink = document.createElement('div');\n",
              "          docLink.innerHTML = docLinkHtml;\n",
              "          element.appendChild(docLink);\n",
              "        }\n",
              "      </script>\n",
              "    </div>\n",
              "  </div>\n",
              "  "
            ]
          },
          "metadata": {},
          "execution_count": 33
        }
      ]
    },
    {
      "cell_type": "code",
      "source": [
        "df3['comportamientoCliente'].replace(to_replace='MUY ESTABLE', value=1, inplace=True)\n",
        "df3['comportamientoCliente'].replace(to_replace='ESTABLE', value=1, inplace=True)\n",
        "df3['comportamientoCliente'].replace(to_replace='POCO ESTABLE', value=2, inplace=True)\n",
        "df3['comportamientoCliente'].replace(to_replace='MUY INESTABLE', value=2, inplace=True)\n",
        "df3['generaciones'].replace(to_replace='No Definido', value=0, inplace=True)\n",
        "df3['generaciones'].replace(to_replace='Silent Generation', value=1, inplace=True)\n",
        "df3['generaciones'].replace(to_replace='Baby Boom', value=1, inplace=True)\n",
        "df3['generaciones'].replace(to_replace='Generacion X', value=2, inplace=True)\n",
        "df3['generaciones'].replace(to_replace='Millennials', value=3, inplace=True)\n",
        "df3['generaciones'].replace(to_replace='Centenials', value=3, inplace=True)"
      ],
      "metadata": {
        "colab": {
          "base_uri": "https://localhost:8080/"
        },
        "id": "vpzR1OW_LHtK",
        "outputId": "27af97e4-b337-4931-ca37-7702d302db4b"
      },
      "execution_count": null,
      "outputs": [
        {
          "output_type": "stream",
          "name": "stderr",
          "text": [
            "/usr/local/lib/python3.7/dist-packages/pandas/core/generic.py:6619: SettingWithCopyWarning: \n",
            "A value is trying to be set on a copy of a slice from a DataFrame\n",
            "\n",
            "See the caveats in the documentation: https://pandas.pydata.org/pandas-docs/stable/user_guide/indexing.html#returning-a-view-versus-a-copy\n",
            "  return self._update_inplace(result)\n"
          ]
        }
      ]
    },
    {
      "cell_type": "code",
      "source": [
        "df3"
      ],
      "metadata": {
        "colab": {
          "base_uri": "https://localhost:8080/",
          "height": 424
        },
        "id": "dem9reGaLZYt",
        "outputId": "7f2ffb15-1d43-43e1-83e2-8a73f5616b0c"
      },
      "execution_count": null,
      "outputs": [
        {
          "output_type": "execute_result",
          "data": {
            "text/plain": [
              "        comportamientoCliente  edad  generaciones\n",
              "17                          1  31.0             3\n",
              "23                          1  41.0             2\n",
              "28                          1  28.0             3\n",
              "31                          1  48.0             2\n",
              "33                          1  53.0             1\n",
              "...                       ...   ...           ...\n",
              "357543                      1  34.0             3\n",
              "357544                      1  28.0             3\n",
              "357548                      1  60.0             1\n",
              "357549                      1  27.0             3\n",
              "357565                      1  36.0             3\n",
              "\n",
              "[9861 rows x 3 columns]"
            ],
            "text/html": [
              "\n",
              "  <div id=\"df-229a2041-4c80-4a83-9c28-f0c46722e8ee\">\n",
              "    <div class=\"colab-df-container\">\n",
              "      <div>\n",
              "<style scoped>\n",
              "    .dataframe tbody tr th:only-of-type {\n",
              "        vertical-align: middle;\n",
              "    }\n",
              "\n",
              "    .dataframe tbody tr th {\n",
              "        vertical-align: top;\n",
              "    }\n",
              "\n",
              "    .dataframe thead th {\n",
              "        text-align: right;\n",
              "    }\n",
              "</style>\n",
              "<table border=\"1\" class=\"dataframe\">\n",
              "  <thead>\n",
              "    <tr style=\"text-align: right;\">\n",
              "      <th></th>\n",
              "      <th>comportamientoCliente</th>\n",
              "      <th>edad</th>\n",
              "      <th>generaciones</th>\n",
              "    </tr>\n",
              "  </thead>\n",
              "  <tbody>\n",
              "    <tr>\n",
              "      <th>17</th>\n",
              "      <td>1</td>\n",
              "      <td>31.0</td>\n",
              "      <td>3</td>\n",
              "    </tr>\n",
              "    <tr>\n",
              "      <th>23</th>\n",
              "      <td>1</td>\n",
              "      <td>41.0</td>\n",
              "      <td>2</td>\n",
              "    </tr>\n",
              "    <tr>\n",
              "      <th>28</th>\n",
              "      <td>1</td>\n",
              "      <td>28.0</td>\n",
              "      <td>3</td>\n",
              "    </tr>\n",
              "    <tr>\n",
              "      <th>31</th>\n",
              "      <td>1</td>\n",
              "      <td>48.0</td>\n",
              "      <td>2</td>\n",
              "    </tr>\n",
              "    <tr>\n",
              "      <th>33</th>\n",
              "      <td>1</td>\n",
              "      <td>53.0</td>\n",
              "      <td>1</td>\n",
              "    </tr>\n",
              "    <tr>\n",
              "      <th>...</th>\n",
              "      <td>...</td>\n",
              "      <td>...</td>\n",
              "      <td>...</td>\n",
              "    </tr>\n",
              "    <tr>\n",
              "      <th>357543</th>\n",
              "      <td>1</td>\n",
              "      <td>34.0</td>\n",
              "      <td>3</td>\n",
              "    </tr>\n",
              "    <tr>\n",
              "      <th>357544</th>\n",
              "      <td>1</td>\n",
              "      <td>28.0</td>\n",
              "      <td>3</td>\n",
              "    </tr>\n",
              "    <tr>\n",
              "      <th>357548</th>\n",
              "      <td>1</td>\n",
              "      <td>60.0</td>\n",
              "      <td>1</td>\n",
              "    </tr>\n",
              "    <tr>\n",
              "      <th>357549</th>\n",
              "      <td>1</td>\n",
              "      <td>27.0</td>\n",
              "      <td>3</td>\n",
              "    </tr>\n",
              "    <tr>\n",
              "      <th>357565</th>\n",
              "      <td>1</td>\n",
              "      <td>36.0</td>\n",
              "      <td>3</td>\n",
              "    </tr>\n",
              "  </tbody>\n",
              "</table>\n",
              "<p>9861 rows × 3 columns</p>\n",
              "</div>\n",
              "      <button class=\"colab-df-convert\" onclick=\"convertToInteractive('df-229a2041-4c80-4a83-9c28-f0c46722e8ee')\"\n",
              "              title=\"Convert this dataframe to an interactive table.\"\n",
              "              style=\"display:none;\">\n",
              "        \n",
              "  <svg xmlns=\"http://www.w3.org/2000/svg\" height=\"24px\"viewBox=\"0 0 24 24\"\n",
              "       width=\"24px\">\n",
              "    <path d=\"M0 0h24v24H0V0z\" fill=\"none\"/>\n",
              "    <path d=\"M18.56 5.44l.94 2.06.94-2.06 2.06-.94-2.06-.94-.94-2.06-.94 2.06-2.06.94zm-11 1L8.5 8.5l.94-2.06 2.06-.94-2.06-.94L8.5 2.5l-.94 2.06-2.06.94zm10 10l.94 2.06.94-2.06 2.06-.94-2.06-.94-.94-2.06-.94 2.06-2.06.94z\"/><path d=\"M17.41 7.96l-1.37-1.37c-.4-.4-.92-.59-1.43-.59-.52 0-1.04.2-1.43.59L10.3 9.45l-7.72 7.72c-.78.78-.78 2.05 0 2.83L4 21.41c.39.39.9.59 1.41.59.51 0 1.02-.2 1.41-.59l7.78-7.78 2.81-2.81c.8-.78.8-2.07 0-2.86zM5.41 20L4 18.59l7.72-7.72 1.47 1.35L5.41 20z\"/>\n",
              "  </svg>\n",
              "      </button>\n",
              "      \n",
              "  <style>\n",
              "    .colab-df-container {\n",
              "      display:flex;\n",
              "      flex-wrap:wrap;\n",
              "      gap: 12px;\n",
              "    }\n",
              "\n",
              "    .colab-df-convert {\n",
              "      background-color: #E8F0FE;\n",
              "      border: none;\n",
              "      border-radius: 50%;\n",
              "      cursor: pointer;\n",
              "      display: none;\n",
              "      fill: #1967D2;\n",
              "      height: 32px;\n",
              "      padding: 0 0 0 0;\n",
              "      width: 32px;\n",
              "    }\n",
              "\n",
              "    .colab-df-convert:hover {\n",
              "      background-color: #E2EBFA;\n",
              "      box-shadow: 0px 1px 2px rgba(60, 64, 67, 0.3), 0px 1px 3px 1px rgba(60, 64, 67, 0.15);\n",
              "      fill: #174EA6;\n",
              "    }\n",
              "\n",
              "    [theme=dark] .colab-df-convert {\n",
              "      background-color: #3B4455;\n",
              "      fill: #D2E3FC;\n",
              "    }\n",
              "\n",
              "    [theme=dark] .colab-df-convert:hover {\n",
              "      background-color: #434B5C;\n",
              "      box-shadow: 0px 1px 3px 1px rgba(0, 0, 0, 0.15);\n",
              "      filter: drop-shadow(0px 1px 2px rgba(0, 0, 0, 0.3));\n",
              "      fill: #FFFFFF;\n",
              "    }\n",
              "  </style>\n",
              "\n",
              "      <script>\n",
              "        const buttonEl =\n",
              "          document.querySelector('#df-229a2041-4c80-4a83-9c28-f0c46722e8ee button.colab-df-convert');\n",
              "        buttonEl.style.display =\n",
              "          google.colab.kernel.accessAllowed ? 'block' : 'none';\n",
              "\n",
              "        async function convertToInteractive(key) {\n",
              "          const element = document.querySelector('#df-229a2041-4c80-4a83-9c28-f0c46722e8ee');\n",
              "          const dataTable =\n",
              "            await google.colab.kernel.invokeFunction('convertToInteractive',\n",
              "                                                     [key], {});\n",
              "          if (!dataTable) return;\n",
              "\n",
              "          const docLinkHtml = 'Like what you see? Visit the ' +\n",
              "            '<a target=\"_blank\" href=https://colab.research.google.com/notebooks/data_table.ipynb>data table notebook</a>'\n",
              "            + ' to learn more about interactive tables.';\n",
              "          element.innerHTML = '';\n",
              "          dataTable['output_type'] = 'display_data';\n",
              "          await google.colab.output.renderOutput(dataTable, element);\n",
              "          const docLink = document.createElement('div');\n",
              "          docLink.innerHTML = docLinkHtml;\n",
              "          element.appendChild(docLink);\n",
              "        }\n",
              "      </script>\n",
              "    </div>\n",
              "  </div>\n",
              "  "
            ]
          },
          "metadata": {},
          "execution_count": 35
        }
      ]
    },
    {
      "cell_type": "code",
      "source": [
        "df3.dropna(inplace = True)"
      ],
      "metadata": {
        "colab": {
          "base_uri": "https://localhost:8080/"
        },
        "id": "pWwZWlBPWgMC",
        "outputId": "fc0ab7ab-56a2-4268-dc2b-fd7b0db123ba"
      },
      "execution_count": null,
      "outputs": [
        {
          "output_type": "stream",
          "name": "stderr",
          "text": [
            "/usr/local/lib/python3.7/dist-packages/pandas/util/_decorators.py:311: SettingWithCopyWarning: \n",
            "A value is trying to be set on a copy of a slice from a DataFrame\n",
            "\n",
            "See the caveats in the documentation: https://pandas.pydata.org/pandas-docs/stable/user_guide/indexing.html#returning-a-view-versus-a-copy\n",
            "  return func(*args, **kwargs)\n"
          ]
        }
      ]
    },
    {
      "cell_type": "code",
      "source": [
        "df3.isnull().sum()"
      ],
      "metadata": {
        "colab": {
          "base_uri": "https://localhost:8080/"
        },
        "id": "0iU4UGDTK3jH",
        "outputId": "9fce3aee-5030-42ef-fae3-1f06d9666dfb"
      },
      "execution_count": null,
      "outputs": [
        {
          "output_type": "execute_result",
          "data": {
            "text/plain": [
              "comportamientoCliente    0\n",
              "edad                     0\n",
              "generaciones             0\n",
              "dtype: int64"
            ]
          },
          "metadata": {},
          "execution_count": 37
        }
      ]
    },
    {
      "cell_type": "code",
      "source": [
        "# Instanciar escalador estándar\n",
        "scaler = StandardScaler()\n",
        "# Ajustar y transformar datos\n",
        "scaled_df3 = scaler.fit_transform(df3)"
      ],
      "metadata": {
        "id": "t8dQ3dzuW87G"
      },
      "execution_count": null,
      "outputs": []
    },
    {
      "cell_type": "code",
      "source": [
        "# Instanciar agrupamiento\n",
        "hc = AgglomerativeClustering(n_clusters = 2)\n",
        "hc.fit(scaled_df3)"
      ],
      "metadata": {
        "colab": {
          "base_uri": "https://localhost:8080/"
        },
        "id": "LUpb7q3XXJ0N",
        "outputId": "788f9256-e846-41ee-a21c-4492f75d2da0"
      },
      "execution_count": null,
      "outputs": [
        {
          "output_type": "execute_result",
          "data": {
            "text/plain": [
              "AgglomerativeClustering()"
            ]
          },
          "metadata": {},
          "execution_count": 39
        }
      ]
    },
    {
      "cell_type": "code",
      "source": [
        "# Guardar las etiquetas del clúster en el marco de datos\n",
        "df3['cluster'] = hc.labels_\n",
        "# Visualizar los clusters\n",
        "plt.figure(figsize=(16,5))\n",
        "plt.scatter(df3['comportamientoCliente'], df3['generaciones'], c = df3['cluster'])\n",
        "plt.xlabel('comportamientoCliente')\n",
        "plt.ylabel('generaciones')\n",
        "plt.title('Clusters de Comportamineto');"
      ],
      "metadata": {
        "colab": {
          "base_uri": "https://localhost:8080/",
          "height": 460
        },
        "id": "HNreRxeQXaNI",
        "outputId": "e8671f23-7016-422a-dfb6-21bfdf816780"
      },
      "execution_count": null,
      "outputs": [
        {
          "output_type": "stream",
          "name": "stderr",
          "text": [
            "/usr/local/lib/python3.7/dist-packages/ipykernel_launcher.py:2: SettingWithCopyWarning: \n",
            "A value is trying to be set on a copy of a slice from a DataFrame.\n",
            "Try using .loc[row_indexer,col_indexer] = value instead\n",
            "\n",
            "See the caveats in the documentation: https://pandas.pydata.org/pandas-docs/stable/user_guide/indexing.html#returning-a-view-versus-a-copy\n",
            "  \n"
          ]
        },
        {
          "output_type": "display_data",
          "data": {
            "text/plain": [
              "<Figure size 1152x360 with 1 Axes>"
            ],
            "image/png": "[encoded data removed]"
          },
          "metadata": {
            "needs_background": "light"
          }
        }
      ]
    },
    {
      "cell_type": "code",
      "source": [
        "# Guardar las etiquetas del clúster en el marco de datos\n",
        "df3['cluster'] = hc.labels_\n",
        "# Visualizar los clusters\n",
        "plt.figure(figsize=(5,5))\n",
        "plt.scatter(df3['comportamientoCliente'], df3['edad'], c = df3['cluster'])\n",
        "plt.xlabel('comportamientoCliente')\n",
        "plt.ylabel('edad')\n",
        "plt.title('Clusters de Comportamineto');"
      ],
      "metadata": {
        "colab": {
          "base_uri": "https://localhost:8080/",
          "height": 465
        },
        "id": "SttGdRlUXygR",
        "outputId": "85a8754a-c6c4-4b54-c097-430a33c76593"
      },
      "execution_count": null,
      "outputs": [
        {
          "output_type": "stream",
          "name": "stderr",
          "text": [
            "/usr/local/lib/python3.7/dist-packages/ipykernel_launcher.py:2: SettingWithCopyWarning: \n",
            "A value is trying to be set on a copy of a slice from a DataFrame.\n",
            "Try using .loc[row_indexer,col_indexer] = value instead\n",
            "\n",
            "See the caveats in the documentation: https://pandas.pydata.org/pandas-docs/stable/user_guide/indexing.html#returning-a-view-versus-a-copy\n",
            "  \n"
          ]
        },
        {
          "output_type": "display_data",
          "data": {
            "text/plain": [
              "<Figure size 360x360 with 1 Axes>"
            ],
            "image/png": "[encoded data removed]"
          },
          "metadata": {
            "needs_background": "light"
          }
        }
      ]
    },
    {
      "cell_type": "code",
      "source": [
        "# Guardar las etiquetas del clúster en el marco de datos\n",
        "df3['cluster'] = hc.labels_\n",
        "# Visualizar los clusters\n",
        "plt.figure(figsize=(5,5))\n",
        "plt.scatter(df3['generaciones'], df3['edad'], c = df3['cluster'])\n",
        "plt.xlabel('generaciones')\n",
        "plt.ylabel('edad')\n",
        "plt.title('Clusters de generaciones');"
      ],
      "metadata": {
        "colab": {
          "base_uri": "https://localhost:8080/",
          "height": 465
        },
        "id": "_KxPEpcuwYt2",
        "outputId": "21256499-e3bb-42ef-ffb8-2533df0f1c0d"
      },
      "execution_count": null,
      "outputs": [
        {
          "output_type": "stream",
          "name": "stderr",
          "text": [
            "/usr/local/lib/python3.7/dist-packages/ipykernel_launcher.py:2: SettingWithCopyWarning: \n",
            "A value is trying to be set on a copy of a slice from a DataFrame.\n",
            "Try using .loc[row_indexer,col_indexer] = value instead\n",
            "\n",
            "See the caveats in the documentation: https://pandas.pydata.org/pandas-docs/stable/user_guide/indexing.html#returning-a-view-versus-a-copy\n",
            "  \n"
          ]
        },
        {
          "output_type": "display_data",
          "data": {
            "text/plain": [
              "<Figure size 360x360 with 1 Axes>"
            ],
            "image/png": "[encoded data removed]"
          },
          "metadata": {
            "needs_background": "light"
          }
        }
      ]
    },
    {
      "cell_type": "code",
      "source": [
        "import seaborn as sns\n",
        "import matplotlib.pyplot as plt\n",
        "from matplotlib import rcParams\n",
        "from matplotlib.cm import rainbow\n",
        "%matplotlib inline"
      ],
      "metadata": {
        "id": "eEcv9aeUdLtt"
      },
      "execution_count": null,
      "outputs": []
    },
    {
      "cell_type": "code",
      "source": [
        "plt.figure(figsize=(7,6))\n",
        "sns.countplot(x='comportamientoCliente',data=df1,hue = 'generaciones',palette='rocket_r')\n",
        "sns.set_context('notebook')\n",
        "plt.title(\"Generaciones\", size =15)"
      ],
      "metadata": {
        "colab": {
          "base_uri": "https://localhost:8080/",
          "height": 424
        },
        "id": "NxujoRpQdDwH",
        "outputId": "f00bd729-da57-4ebc-9d89-aa26039b8b88"
      },
      "execution_count": null,
      "outputs": [
        {
          "output_type": "execute_result",
          "data": {
            "text/plain": [
              "Text(0.5, 1.0, 'Generaciones')"
            ]
          },
          "metadata": {},
          "execution_count": 43
        },
        {
          "output_type": "display_data",
          "data": {
            "text/plain": [
              "<Figure size 504x432 with 1 Axes>"
            ],
            "image/png": "[encoded data removed]"
          },
          "metadata": {
            "needs_background": "light"
          }
        }
      ]
    },
    {
      "cell_type": "code",
      "source": [
        "plt.figure(figsize=(7,6))\n",
        "sns.countplot(x='comportamientoCliente',data=df,palette='rocket_r')\n",
        "sns.set_context('notebook')\n",
        "plt.title(\"Edad\", size =15)"
      ],
      "metadata": {
        "colab": {
          "base_uri": "https://localhost:8080/",
          "height": 430
        },
        "id": "GSryIV-meZ73",
        "outputId": "54e0085b-cf24-4117-d358-dbbfae7247e5"
      },
      "execution_count": null,
      "outputs": [
        {
          "output_type": "execute_result",
          "data": {
            "text/plain": [
              "Text(0.5, 1.0, 'Edad')"
            ]
          },
          "metadata": {},
          "execution_count": 44
        },
        {
          "output_type": "display_data",
          "data": {
            "text/plain": [
              "<Figure size 504x432 with 1 Axes>"
            ],
            "image/png": "[encoded data removed]"
          },
          "metadata": {
            "needs_background": "light"
          }
        }
      ]
    },
    {
      "cell_type": "code",
      "source": [
        "corr = df.corr(method='kendall')\n",
        "plt.figure(figsize=(15,10))\n",
        "sns.heatmap(corr, cmap=\"BrBG\", linewidths=.9)"
      ],
      "metadata": {
        "colab": {
          "base_uri": "https://localhost:8080/",
          "height": 755
        },
        "id": "HZOk_HSZfXtq",
        "outputId": "c56e1bb5-6800-4b99-b0e2-21374da30190"
      },
      "execution_count": null,
      "outputs": [
        {
          "output_type": "execute_result",
          "data": {
            "text/plain": [
              "<matplotlib.axes._subplots.AxesSubplot at 0x7f5c5a0b50d0>"
            ]
          },
          "metadata": {},
          "execution_count": 45
        },
        {
          "output_type": "display_data",
          "data": {
            "text/plain": [
              "<Figure size 1080x720 with 2 Axes>"
            ],
            "image/png": "[encoded data removed]"
          },
          "metadata": {
            "needs_background": "light"
          }
        }
      ]
    },
    {
      "cell_type": "code",
      "source": [
        "dfn = df.copy()"
      ],
      "metadata": {
        "id": "oVeIh49fiXLZ"
      },
      "execution_count": null,
      "outputs": []
    },
    {
      "cell_type": "code",
      "source": [
        "dfn = dfn.iloc[:,1:]"
      ],
      "metadata": {
        "id": "Dv1EslqBiYuQ"
      },
      "execution_count": null,
      "outputs": []
    },
    {
      "cell_type": "code",
      "source": [
        "dfn_dummies = pd.get_dummies(dfn)"
      ],
      "metadata": {
        "id": "dHJ2BJd8ict_"
      },
      "execution_count": null,
      "outputs": []
    },
    {
      "cell_type": "code",
      "source": [
        "dfn['comportamientoCliente'].replace(to_replace='MUY ESTABLE', value=1, inplace=True)\n",
        "dfn['comportamientoCliente'].replace(to_replace='ESTABLE', value=1 , inplace=True)\n",
        "dfn['comportamientoCliente'].replace(to_replace='POCO ESTABLE', value=0, inplace=True)\n",
        "dfn['comportamientoCliente'].replace(to_replace='MUY INESTABLE', value=0, inplace=True)"
      ],
      "metadata": {
        "id": "n4kI4wfWihsO"
      },
      "execution_count": null,
      "outputs": []
    },
    {
      "cell_type": "code",
      "source": [
        "dfn.describe()"
      ],
      "metadata": {
        "colab": {
          "base_uri": "https://localhost:8080/",
          "height": 364
        },
        "id": "73ISATwsi6w6",
        "outputId": "3cd2700f-3342-427d-b01c-dd8cb6194ba3"
      },
      "execution_count": null,
      "outputs": [
        {
          "output_type": "execute_result",
          "data": {
            "text/plain": [
              "       valor_Ultima_Milla  valor_Instalacion  valor_Servicio       MesVenta  \\\n",
              "count              9861.0        9861.000000     9861.000000    9861.000000   \n",
              "mean                  0.0          30.324004       21.426086  201849.794240   \n",
              "std                   0.0          23.965915        3.387105     111.580338   \n",
              "min                   0.0           0.000000        0.000000  201206.000000   \n",
              "25%                   0.0           0.000000       20.000000  201711.000000   \n",
              "50%                   0.0          50.000000       20.000000  201812.000000   \n",
              "75%                   0.0          50.000000       24.000000  201911.000000   \n",
              "max                   0.0          80.000000      240.240000  202103.000000   \n",
              "\n",
              "          diaVenta  Fecha_1ra_Factura  Valor_1ra_Factura  Fecha_Ult_Factura  \\\n",
              "count  9861.000000       9.861000e+03        9861.000000       9.861000e+03   \n",
              "mean     16.387790       2.018528e+07          11.494241       2.021308e+07   \n",
              "std       8.632026       1.116619e+04           6.924856       1.018245e+04   \n",
              "min       1.000000       2.012100e+07           0.590000       2.018010e+07   \n",
              "25%       9.000000       2.017120e+07           6.190000       2.021040e+07   \n",
              "50%      17.000000       2.018120e+07          11.350000       2.022030e+07   \n",
              "75%      24.000000       2.019120e+07          16.670000       2.022030e+07   \n",
              "max      31.000000       2.022030e+07         240.240000       2.022030e+07   \n",
              "\n",
              "       Valor_Ult_Factura  MesRegistroRequerimiento  MesInstalacion  \\\n",
              "count        9861.000000               9861.000000     9861.000000   \n",
              "mean           20.413665             201867.429774   201870.172599   \n",
              "std             4.972314                113.233425      204.471885   \n",
              "min             0.000000             201004.000000   201703.000000   \n",
              "25%            20.000000             201802.000000   201802.000000   \n",
              "50%            20.000000             201903.000000   201903.000000   \n",
              "75%            24.000000             202001.000000   202002.000000   \n",
              "max           240.240000             202103.000000   218803.000000   \n",
              "\n",
              "       permanencia  comportamientoCliente        subida         edad  \\\n",
              "count  9861.000000            9861.000000   9861.000000  9861.000000   \n",
              "mean     42.502180               1.617990   6717.245715    40.636852   \n",
              "std      21.720596               0.503534   1699.454180    11.406328   \n",
              "min       0.000000               1.000000   1024.000000    20.000000   \n",
              "25%      27.000000               1.000000   5000.000000    32.000000   \n",
              "50%      41.000000               2.000000   8000.000000    39.000000   \n",
              "75%      53.000000               2.000000   8000.000000    47.000000   \n",
              "max     259.000000               3.000000  40000.000000   121.000000   \n",
              "\n",
              "       generaciones      val_cupo  antiguedad_bancarizado  \n",
              "count   9861.000000   9861.000000             9861.000000  \n",
              "mean       4.334145   2276.123492               68.900517  \n",
              "std        0.849173   4328.265928               52.451474  \n",
              "min        1.000000      0.000000                0.000000  \n",
              "25%        4.000000      0.000000               28.000000  \n",
              "50%        4.000000    213.420000               58.000000  \n",
              "75%        5.000000   3000.000000              101.000000  \n",
              "max        6.000000  48000.000000              494.000000  "
            ],
            "text/html": [
              "\n",
              "  <div id=\"df-0aeb08e9-faf4-4de5-89fb-7de5892cd068\">\n",
              "    <div class=\"colab-df-container\">\n",
              "      <div>\n",
              "<style scoped>\n",
              "    .dataframe tbody tr th:only-of-type {\n",
              "        vertical-align: middle;\n",
              "    }\n",
              "\n",
              "    .dataframe tbody tr th {\n",
              "        vertical-align: top;\n",
              "    }\n",
              "\n",
              "    .dataframe thead th {\n",
              "        text-align: right;\n",
              "    }\n",
              "</style>\n",
              "<table border=\"1\" class=\"dataframe\">\n",
              "  <thead>\n",
              "    <tr style=\"text-align: right;\">\n",
              "      <th></th>\n",
              "      <th>valor_Ultima_Milla</th>\n",
              "      <th>valor_Instalacion</th>\n",
              "      <th>valor_Servicio</th>\n",
              "      <th>MesVenta</th>\n",
              "      <th>diaVenta</th>\n",
              "      <th>Fecha_1ra_Factura</th>\n",
              "      <th>Valor_1ra_Factura</th>\n",
              "      <th>Fecha_Ult_Factura</th>\n",
              "      <th>Valor_Ult_Factura</th>\n",
              "      <th>MesRegistroRequerimiento</th>\n",
              "      <th>MesInstalacion</th>\n",
              "      <th>permanencia</th>\n",
              "      <th>comportamientoCliente</th>\n",
              "      <th>subida</th>\n",
              "      <th>edad</th>\n",
              "      <th>generaciones</th>\n",
              "      <th>val_cupo</th>\n",
              "      <th>antiguedad_bancarizado</th>\n",
              "    </tr>\n",
              "  </thead>\n",
              "  <tbody>\n",
              "    <tr>\n",
              "      <th>count</th>\n",
              "      <td>9861.0</td>\n",
              "      <td>9861.000000</td>\n",
              "      <td>9861.000000</td>\n",
              "      <td>9861.000000</td>\n",
              "      <td>9861.000000</td>\n",
              "      <td>9.861000e+03</td>\n",
              "      <td>9861.000000</td>\n",
              "      <td>9.861000e+03</td>\n",
              "      <td>9861.000000</td>\n",
              "      <td>9861.000000</td>\n",
              "      <td>9861.000000</td>\n",
              "      <td>9861.000000</td>\n",
              "      <td>9861.000000</td>\n",
              "      <td>9861.000000</td>\n",
              "      <td>9861.000000</td>\n",
              "      <td>9861.000000</td>\n",
              "      <td>9861.000000</td>\n",
              "      <td>9861.000000</td>\n",
              "    </tr>\n",
              "    <tr>\n",
              "      <th>mean</th>\n",
              "      <td>0.0</td>\n",
              "      <td>30.324004</td>\n",
              "      <td>21.426086</td>\n",
              "      <td>201849.794240</td>\n",
              "      <td>16.387790</td>\n",
              "      <td>2.018528e+07</td>\n",
              "      <td>11.494241</td>\n",
              "      <td>2.021308e+07</td>\n",
              "      <td>20.413665</td>\n",
              "      <td>201867.429774</td>\n",
              "      <td>201870.172599</td>\n",
              "      <td>42.502180</td>\n",
              "      <td>1.617990</td>\n",
              "      <td>6717.245715</td>\n",
              "      <td>40.636852</td>\n",
              "      <td>4.334145</td>\n",
              "      <td>2276.123492</td>\n",
              "      <td>68.900517</td>\n",
              "    </tr>\n",
              "    <tr>\n",
              "      <th>std</th>\n",
              "      <td>0.0</td>\n",
              "      <td>23.965915</td>\n",
              "      <td>3.387105</td>\n",
              "      <td>111.580338</td>\n",
              "      <td>8.632026</td>\n",
              "      <td>1.116619e+04</td>\n",
              "      <td>6.924856</td>\n",
              "      <td>1.018245e+04</td>\n",
              "      <td>4.972314</td>\n",
              "      <td>113.233425</td>\n",
              "      <td>204.471885</td>\n",
              "      <td>21.720596</td>\n",
              "      <td>0.503534</td>\n",
              "      <td>1699.454180</td>\n",
              "      <td>11.406328</td>\n",
              "      <td>0.849173</td>\n",
              "      <td>4328.265928</td>\n",
              "      <td>52.451474</td>\n",
              "    </tr>\n",
              "    <tr>\n",
              "      <th>min</th>\n",
              "      <td>0.0</td>\n",
              "      <td>0.000000</td>\n",
              "      <td>0.000000</td>\n",
              "      <td>201206.000000</td>\n",
              "      <td>1.000000</td>\n",
              "      <td>2.012100e+07</td>\n",
              "      <td>0.590000</td>\n",
              "      <td>2.018010e+07</td>\n",
              "      <td>0.000000</td>\n",
              "      <td>201004.000000</td>\n",
              "      <td>201703.000000</td>\n",
              "      <td>0.000000</td>\n",
              "      <td>1.000000</td>\n",
              "      <td>1024.000000</td>\n",
              "      <td>20.000000</td>\n",
              "      <td>1.000000</td>\n",
              "      <td>0.000000</td>\n",
              "      <td>0.000000</td>\n",
              "    </tr>\n",
              "    <tr>\n",
              "      <th>25%</th>\n",
              "      <td>0.0</td>\n",
              "      <td>0.000000</td>\n",
              "      <td>20.000000</td>\n",
              "      <td>201711.000000</td>\n",
              "      <td>9.000000</td>\n",
              "      <td>2.017120e+07</td>\n",
              "      <td>6.190000</td>\n",
              "      <td>2.021040e+07</td>\n",
              "      <td>20.000000</td>\n",
              "      <td>201802.000000</td>\n",
              "      <td>201802.000000</td>\n",
              "      <td>27.000000</td>\n",
              "      <td>1.000000</td>\n",
              "      <td>5000.000000</td>\n",
              "      <td>32.000000</td>\n",
              "      <td>4.000000</td>\n",
              "      <td>0.000000</td>\n",
              "      <td>28.000000</td>\n",
              "    </tr>\n",
              "    <tr>\n",
              "      <th>50%</th>\n",
              "      <td>0.0</td>\n",
              "      <td>50.000000</td>\n",
              "      <td>20.000000</td>\n",
              "      <td>201812.000000</td>\n",
              "      <td>17.000000</td>\n",
              "      <td>2.018120e+07</td>\n",
              "      <td>11.350000</td>\n",
              "      <td>2.022030e+07</td>\n",
              "      <td>20.000000</td>\n",
              "      <td>201903.000000</td>\n",
              "      <td>201903.000000</td>\n",
              "      <td>41.000000</td>\n",
              "      <td>2.000000</td>\n",
              "      <td>8000.000000</td>\n",
              "      <td>39.000000</td>\n",
              "      <td>4.000000</td>\n",
              "      <td>213.420000</td>\n",
              "      <td>58.000000</td>\n",
              "    </tr>\n",
              "    <tr>\n",
              "      <th>75%</th>\n",
              "      <td>0.0</td>\n",
              "      <td>50.000000</td>\n",
              "      <td>24.000000</td>\n",
              "      <td>201911.000000</td>\n",
              "      <td>24.000000</td>\n",
              "      <td>2.019120e+07</td>\n",
              "      <td>16.670000</td>\n",
              "      <td>2.022030e+07</td>\n",
              "      <td>24.000000</td>\n",
              "      <td>202001.000000</td>\n",
              "      <td>202002.000000</td>\n",
              "      <td>53.000000</td>\n",
              "      <td>2.000000</td>\n",
              "      <td>8000.000000</td>\n",
              "      <td>47.000000</td>\n",
              "      <td>5.000000</td>\n",
              "      <td>3000.000000</td>\n",
              "      <td>101.000000</td>\n",
              "    </tr>\n",
              "    <tr>\n",
              "      <th>max</th>\n",
              "      <td>0.0</td>\n",
              "      <td>80.000000</td>\n",
              "      <td>240.240000</td>\n",
              "      <td>202103.000000</td>\n",
              "      <td>31.000000</td>\n",
              "      <td>2.022030e+07</td>\n",
              "      <td>240.240000</td>\n",
              "      <td>2.022030e+07</td>\n",
              "      <td>240.240000</td>\n",
              "      <td>202103.000000</td>\n",
              "      <td>218803.000000</td>\n",
              "      <td>259.000000</td>\n",
              "      <td>3.000000</td>\n",
              "      <td>40000.000000</td>\n",
              "      <td>121.000000</td>\n",
              "      <td>6.000000</td>\n",
              "      <td>48000.000000</td>\n",
              "      <td>494.000000</td>\n",
              "    </tr>\n",
              "  </tbody>\n",
              "</table>\n",
              "</div>\n",
              "      <button class=\"colab-df-convert\" onclick=\"convertToInteractive('df-0aeb08e9-faf4-4de5-89fb-7de5892cd068')\"\n",
              "              title=\"Convert this dataframe to an interactive table.\"\n",
              "              style=\"display:none;\">\n",
              "        \n",
              "  <svg xmlns=\"http://www.w3.org/2000/svg\" height=\"24px\"viewBox=\"0 0 24 24\"\n",
              "       width=\"24px\">\n",
              "    <path d=\"M0 0h24v24H0V0z\" fill=\"none\"/>\n",
              "    <path d=\"M18.56 5.44l.94 2.06.94-2.06 2.06-.94-2.06-.94-.94-2.06-.94 2.06-2.06.94zm-11 1L8.5 8.5l.94-2.06 2.06-.94-2.06-.94L8.5 2.5l-.94 2.06-2.06.94zm10 10l.94 2.06.94-2.06 2.06-.94-2.06-.94-.94-2.06-.94 2.06-2.06.94z\"/><path d=\"M17.41 7.96l-1.37-1.37c-.4-.4-.92-.59-1.43-.59-.52 0-1.04.2-1.43.59L10.3 9.45l-7.72 7.72c-.78.78-.78 2.05 0 2.83L4 21.41c.39.39.9.59 1.41.59.51 0 1.02-.2 1.41-.59l7.78-7.78 2.81-2.81c.8-.78.8-2.07 0-2.86zM5.41 20L4 18.59l7.72-7.72 1.47 1.35L5.41 20z\"/>\n",
              "  </svg>\n",
              "      </button>\n",
              "      \n",
              "  <style>\n",
              "    .colab-df-container {\n",
              "      display:flex;\n",
              "      flex-wrap:wrap;\n",
              "      gap: 12px;\n",
              "    }\n",
              "\n",
              "    .colab-df-convert {\n",
              "      background-color: #E8F0FE;\n",
              "      border: none;\n",
              "      border-radius: 50%;\n",
              "      cursor: pointer;\n",
              "      display: none;\n",
              "      fill: #1967D2;\n",
              "      height: 32px;\n",
              "      padding: 0 0 0 0;\n",
              "      width: 32px;\n",
              "    }\n",
              "\n",
              "    .colab-df-convert:hover {\n",
              "      background-color: #E2EBFA;\n",
              "      box-shadow: 0px 1px 2px rgba(60, 64, 67, 0.3), 0px 1px 3px 1px rgba(60, 64, 67, 0.15);\n",
              "      fill: #174EA6;\n",
              "    }\n",
              "\n",
              "    [theme=dark] .colab-df-convert {\n",
              "      background-color: #3B4455;\n",
              "      fill: #D2E3FC;\n",
              "    }\n",
              "\n",
              "    [theme=dark] .colab-df-convert:hover {\n",
              "      background-color: #434B5C;\n",
              "      box-shadow: 0px 1px 3px 1px rgba(0, 0, 0, 0.15);\n",
              "      filter: drop-shadow(0px 1px 2px rgba(0, 0, 0, 0.3));\n",
              "      fill: #FFFFFF;\n",
              "    }\n",
              "  </style>\n",
              "\n",
              "      <script>\n",
              "        const buttonEl =\n",
              "          document.querySelector('#df-0aeb08e9-faf4-4de5-89fb-7de5892cd068 button.colab-df-convert');\n",
              "        buttonEl.style.display =\n",
              "          google.colab.kernel.accessAllowed ? 'block' : 'none';\n",
              "\n",
              "        async function convertToInteractive(key) {\n",
              "          const element = document.querySelector('#df-0aeb08e9-faf4-4de5-89fb-7de5892cd068');\n",
              "          const dataTable =\n",
              "            await google.colab.kernel.invokeFunction('convertToInteractive',\n",
              "                                                     [key], {});\n",
              "          if (!dataTable) return;\n",
              "\n",
              "          const docLinkHtml = 'Like what you see? Visit the ' +\n",
              "            '<a target=\"_blank\" href=https://colab.research.google.com/notebooks/data_table.ipynb>data table notebook</a>'\n",
              "            + ' to learn more about interactive tables.';\n",
              "          element.innerHTML = '';\n",
              "          dataTable['output_type'] = 'display_data';\n",
              "          await google.colab.output.renderOutput(dataTable, element);\n",
              "          const docLink = document.createElement('div');\n",
              "          docLink.innerHTML = docLinkHtml;\n",
              "          element.appendChild(docLink);\n",
              "        }\n",
              "      </script>\n",
              "    </div>\n",
              "  </div>\n",
              "  "
            ]
          },
          "metadata": {},
          "execution_count": 50
        }
      ]
    },
    {
      "cell_type": "code",
      "source": [
        "corr = dfn.corr(method='kendall')\n",
        "plt.figure(figsize=(13,8))\n",
        "sns.heatmap(corr, annot=True, cmap=\"BrBG\", linewidths=.9)"
      ],
      "metadata": {
        "colab": {
          "base_uri": "https://localhost:8080/",
          "height": 646
        },
        "id": "NBpRD5DHi-NS",
        "outputId": "c052b15d-6d96-46f6-d08d-73f06e8ecf6d"
      },
      "execution_count": null,
      "outputs": [
        {
          "output_type": "execute_result",
          "data": {
            "text/plain": [
              "<matplotlib.axes._subplots.AxesSubplot at 0x7f5c59b74390>"
            ]
          },
          "metadata": {},
          "execution_count": 51
        },
        {
          "output_type": "display_data",
          "data": {
            "text/plain": [
              "<Figure size 936x576 with 2 Axes>"
            ],
            "image/png": "[encoded data removed]"
          },
          "metadata": {
            "needs_background": "light"
          }
        }
      ]
    },
    {
      "cell_type": "code",
      "source": [
        "plt.figure(figsize=(16,5))\n",
        "sns.distplot(df['comportamientoCliente'], color = 'maroon')\n",
        "plt.title('Analisis del Comportamiento', size = 13)\n",
        "plt.show()"
      ],
      "metadata": {
        "colab": {
          "base_uri": "https://localhost:8080/",
          "height": 412
        },
        "id": "Hh0uVBGkjfB3",
        "outputId": "6521abff-4738-45e0-dfb9-824401d1d802"
      },
      "execution_count": null,
      "outputs": [
        {
          "output_type": "stream",
          "name": "stderr",
          "text": [
            "/usr/local/lib/python3.7/dist-packages/seaborn/distributions.py:2619: FutureWarning: `distplot` is a deprecated function and will be removed in a future version. Please adapt your code to use either `displot` (a figure-level function with similar flexibility) or `histplot` (an axes-level function for histograms).\n",
            "  warnings.warn(msg, FutureWarning)\n"
          ]
        },
        {
          "output_type": "display_data",
          "data": {
            "text/plain": [
              "<Figure size 1152x360 with 1 Axes>"
            ],
            "image/png": "[encoded data removed]"
          },
          "metadata": {
            "needs_background": "light"
          }
        }
      ]
    },
    {
      "cell_type": "code",
      "source": [
        "from sklearn.linear_model import LogisticRegression"
      ],
      "metadata": {
        "id": "ZzKJoCH7gKtD"
      },
      "execution_count": null,
      "outputs": []
    },
    {
      "cell_type": "code",
      "source": [
        "logreg = LogisticRegression()"
      ],
      "metadata": {
        "id": "2rWacI6tdh1S"
      },
      "execution_count": null,
      "outputs": []
    },
    {
      "cell_type": "code",
      "source": [
        "X = dfn_dummies.drop(columns = ['comportamientoCliente'])"
      ],
      "metadata": {
        "id": "9FCGoggFgSR2"
      },
      "execution_count": null,
      "outputs": []
    },
    {
      "cell_type": "code",
      "source": [
        "y = dfn_dummies['comportamientoCliente'].values"
      ],
      "metadata": {
        "id": "iAiWTDO7jWfK"
      },
      "execution_count": null,
      "outputs": []
    },
    {
      "cell_type": "code",
      "source": [
        "from sklearn.preprocessing import MinMaxScaler"
      ],
      "metadata": {
        "id": "4rDvvdz_dVdH"
      },
      "execution_count": null,
      "outputs": []
    },
    {
      "cell_type": "code",
      "source": [
        "features = X.columns.values\n",
        "scaler = MinMaxScaler(feature_range = (0,1))\n",
        "scaler.fit(X)\n",
        "X = pd.DataFrame(scaler.transform(X))\n",
        "X.columns = features"
      ],
      "metadata": {
        "id": "LM2UHrbcvPXt"
      },
      "execution_count": null,
      "outputs": []
    },
    {
      "cell_type": "code",
      "source": [
        "from sklearn.model_selection import train_test_split"
      ],
      "metadata": {
        "id": "qESHptg7vUka"
      },
      "execution_count": null,
      "outputs": []
    },
    {
      "cell_type": "code",
      "source": [
        "X_train, X_test, y_train, y_test = train_test_split(X, y, test_size=0.3, random_state=101)"
      ],
      "metadata": {
        "id": "MIjujEUJvXJd"
      },
      "execution_count": null,
      "outputs": []
    },
    {
      "cell_type": "code",
      "source": [
        "from sklearn.linear_model import LogisticRegression"
      ],
      "metadata": {
        "id": "clGA7Y8NvZqh"
      },
      "execution_count": null,
      "outputs": []
    },
    {
      "cell_type": "code",
      "source": [
        "logreg = LogisticRegression()"
      ],
      "metadata": {
        "id": "UUZwbUgCvc99"
      },
      "execution_count": null,
      "outputs": []
    },
    {
      "cell_type": "code",
      "source": [
        "logreg.fit(X_train, y_train)"
      ],
      "metadata": {
        "colab": {
          "base_uri": "https://localhost:8080/"
        },
        "id": "KBfVlEsivfBM",
        "outputId": "cb98c94e-1bed-4126-b7c0-b8376246d47a"
      },
      "execution_count": null,
      "outputs": [
        {
          "output_type": "stream",
          "name": "stderr",
          "text": [
            "/usr/local/lib/python3.7/dist-packages/sklearn/linear_model/_logistic.py:818: ConvergenceWarning: lbfgs failed to converge (status=1):\n",
            "STOP: TOTAL NO. of ITERATIONS REACHED LIMIT.\n",
            "\n",
            "Increase the number of iterations (max_iter) or scale the data as shown in:\n",
            "    https://scikit-learn.org/stable/modules/preprocessing.html\n",
            "Please also refer to the documentation for alternative solver options:\n",
            "    https://scikit-learn.org/stable/modules/linear_model.html#logistic-regression\n",
            "  extra_warning_msg=_LOGISTIC_SOLVER_CONVERGENCE_MSG,\n"
          ]
        },
        {
          "output_type": "execute_result",
          "data": {
            "text/plain": [
              "LogisticRegression()"
            ]
          },
          "metadata": {},
          "execution_count": 63
        }
      ]
    },
    {
      "cell_type": "code",
      "source": [
        "from sklearn.metrics import accuracy_score"
      ],
      "metadata": {
        "id": "vpX8wzNMxGTK"
      },
      "execution_count": null,
      "outputs": []
    },
    {
      "cell_type": "code",
      "source": [
        "y_predict = logreg.predict(X_test)"
      ],
      "metadata": {
        "id": "ooZ_RFUYxRKc"
      },
      "execution_count": null,
      "outputs": []
    },
    {
      "cell_type": "code",
      "source": [
        "accuracy_logreg = accuracy_score(y_predict, y_test)"
      ],
      "metadata": {
        "id": "mMProacFxKoR"
      },
      "execution_count": null,
      "outputs": []
    },
    {
      "cell_type": "code",
      "source": [
        "accuracy_logreg"
      ],
      "metadata": {
        "colab": {
          "base_uri": "https://localhost:8080/"
        },
        "id": "VKNrAgKdxV2t",
        "outputId": "cddd7ab2-0852-40a1-dac1-4bb3d1d4f8e2"
      },
      "execution_count": null,
      "outputs": [
        {
          "output_type": "execute_result",
          "data": {
            "text/plain": [
              "0.7029401824940859"
            ]
          },
          "metadata": {},
          "execution_count": 67
        }
      ]
    },
    {
      "cell_type": "code",
      "source": [
        "from sklearn.metrics import confusion_matrix"
      ],
      "metadata": {
        "id": "NjZ3Hp-LxXHt"
      },
      "execution_count": null,
      "outputs": []
    },
    {
      "cell_type": "code",
      "source": [
        "conflog= confusion_matrix(y_test, y_predict)\n",
        "conflog"
      ],
      "metadata": {
        "colab": {
          "base_uri": "https://localhost:8080/"
        },
        "id": "ujoXl1-bxZqg",
        "outputId": "6b45e50d-9fe7-4e2c-c723-91cd9c49b683"
      },
      "execution_count": null,
      "outputs": [
        {
          "output_type": "execute_result",
          "data": {
            "text/plain": [
              "array([[ 694,  471,    0],\n",
              "       [ 384, 1386,    1],\n",
              "       [   6,   17,    0]])"
            ]
          },
          "metadata": {},
          "execution_count": 69
        }
      ]
    },
    {
      "cell_type": "code",
      "source": [
        "sns.heatmap(conflog, annot=True, cmap=\"Pastel1\", linewidths=.9, fmt='d')\n",
        "plt.title('Confusion Matrix of the Logistic Regression prediction')\n",
        "plt.show()"
      ],
      "metadata": {
        "colab": {
          "base_uri": "https://localhost:8080/",
          "height": 284
        },
        "id": "tCgZaejVxfKq",
        "outputId": "c1383d44-b81e-49fd-ebf9-faa07e3f0171"
      },
      "execution_count": null,
      "outputs": [
        {
          "output_type": "display_data",
          "data": {
            "text/plain": [
              "<Figure size 432x288 with 2 Axes>"
            ],
            "image/png": "[encoded data removed]"
          },
          "metadata": {
            "needs_background": "light"
          }
        }
      ]
    },
    {
      "cell_type": "code",
      "source": [
        "from sklearn.preprocessing import LabelEncoder, StandardScaler\n",
        "from sklearn.decomposition import PCA"
      ],
      "metadata": {
        "id": "Su0lIpqKXc-x"
      },
      "execution_count": null,
      "outputs": []
    },
    {
      "cell_type": "code",
      "source": [
        "# Instanciar Escalador Estándar\n",
        "scaler = StandardScaler()\n",
        "# Ajustar y transformar datos\n",
        "scaled_df = scaler.fit_transform(X)"
      ],
      "metadata": {
        "id": "j6Siu8Q1XsGm"
      },
      "execution_count": null,
      "outputs": []
    },
    {
      "cell_type": "code",
      "source": [
        "pca = PCA(n_components=10)\n",
        "pcs = pca.fit_transform(scaled_df)"
      ],
      "metadata": {
        "id": "Hcd2Wz7ZWCq5"
      },
      "execution_count": null,
      "outputs": []
    },
    {
      "cell_type": "code",
      "source": [
        "# Visualiza los primeros 2 PC\n",
        "plt.figure(figsize = (8, 4))\n",
        "plt.scatter(pcs[:,0], pcs[:,1], c = y)\n",
        "plt.title('Visualizacion de los Datos con los Principales Componentes ')\n",
        "plt.xlabel('PC1')\n",
        "plt.ylabel('PC')"
      ],
      "metadata": {
        "colab": {
          "base_uri": "https://localhost:8080/",
          "height": 319
        },
        "id": "w1iV822PVnmm",
        "outputId": "33ca151c-d4f0-4a06-ecfe-1224957f6c04"
      },
      "execution_count": null,
      "outputs": [
        {
          "output_type": "execute_result",
          "data": {
            "text/plain": [
              "Text(0, 0.5, 'PC')"
            ]
          },
          "metadata": {},
          "execution_count": 77
        },
        {
          "output_type": "display_data",
          "data": {
            "text/plain": [
              "<Figure size 576x288 with 1 Axes>"
            ],
            "image/png": "[encoded data removed]"
          },
          "metadata": {
            "needs_background": "light"
          }
        }
      ]
    }
  ]
}